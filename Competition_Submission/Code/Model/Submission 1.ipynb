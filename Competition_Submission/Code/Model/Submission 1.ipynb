{
 "cells": [
  {
   "cell_type": "markdown",
   "metadata": {},
   "source": [
    "# Submission 1\n",
    "by Wilsion Lee"
   ]
  },
  {
   "cell_type": "markdown",
   "metadata": {},
   "source": [
    "## Problem definition"
   ]
  },
  {
   "cell_type": "markdown",
   "metadata": {},
   "source": [
    "Finding the adoption speed of pets"
   ]
  },
  {
   "cell_type": "markdown",
   "metadata": {},
   "source": [
    " ## Import Libraries"
   ]
  },
  {
   "cell_type": "code",
   "execution_count": 1,
   "metadata": {},
   "outputs": [],
   "source": [
    "# import the library\n",
    "%matplotlib inline\n",
    "\n",
    "import pandas as pd\n",
    "import numpy as np\n",
    "import matplotlib.pyplot as plt\n",
    "import seaborn as sns\n",
    "\n",
    "# sklearn :: utils\n",
    "from sklearn.model_selection import train_test_split\n",
    "from sklearn.model_selection import KFold\n",
    "from sklearn.metrics import confusion_matrix\n",
    "from sklearn.metrics import precision_score\n",
    "from sklearn.metrics import recall_score\n",
    "\n",
    "# sklearn :: models\n",
    "from sklearn.naive_bayes import GaussianNB\n",
    "from sklearn.ensemble import RandomForestClassifier\n",
    "from sklearn.neighbors import KNeighborsClassifier\n",
    "from sklearn.tree import DecisionTreeClassifier"
   ]
  },
  {
   "cell_type": "markdown",
   "metadata": {},
   "source": [
    "## Load Data"
   ]
  },
  {
   "cell_type": "code",
   "execution_count": 2,
   "metadata": {},
   "outputs": [
    {
     "name": "stdout",
     "output_type": "stream",
     "text": [
      "Index(['Age', 'VideoAmt', 'PetID', 'PhotoAmt', 'AdoptionSpeed', 'Type_1',\n",
      "       'Type_2', 'Probability', 'a', 'a g',\n",
      "       ...\n",
      "       'State_41332', 'State_41335', 'State_41336', 'State_41342',\n",
      "       'State_41345', 'State_41361', 'State_41367', 'State_41401',\n",
      "       'State_41415', 'fee_per_pet'],\n",
      "      dtype='object', length=4494)\n"
     ]
    },
    {
     "data": {
      "text/html": [
       "<div>\n",
       "<style scoped>\n",
       "    .dataframe tbody tr th:only-of-type {\n",
       "        vertical-align: middle;\n",
       "    }\n",
       "\n",
       "    .dataframe tbody tr th {\n",
       "        vertical-align: top;\n",
       "    }\n",
       "\n",
       "    .dataframe thead th {\n",
       "        text-align: right;\n",
       "    }\n",
       "</style>\n",
       "<table border=\"1\" class=\"dataframe\">\n",
       "  <thead>\n",
       "    <tr style=\"text-align: right;\">\n",
       "      <th></th>\n",
       "      <th>Age</th>\n",
       "      <th>VideoAmt</th>\n",
       "      <th>PetID</th>\n",
       "      <th>PhotoAmt</th>\n",
       "      <th>AdoptionSpeed</th>\n",
       "      <th>Type_1</th>\n",
       "      <th>Type_2</th>\n",
       "      <th>Probability</th>\n",
       "      <th>a</th>\n",
       "      <th>a g</th>\n",
       "      <th>...</th>\n",
       "      <th>State_41332</th>\n",
       "      <th>State_41335</th>\n",
       "      <th>State_41336</th>\n",
       "      <th>State_41342</th>\n",
       "      <th>State_41345</th>\n",
       "      <th>State_41361</th>\n",
       "      <th>State_41367</th>\n",
       "      <th>State_41401</th>\n",
       "      <th>State_41415</th>\n",
       "      <th>fee_per_pet</th>\n",
       "    </tr>\n",
       "  </thead>\n",
       "  <tbody>\n",
       "    <tr>\n",
       "      <th>0</th>\n",
       "      <td>36</td>\n",
       "      <td>0</td>\n",
       "      <td>3f8824a3b</td>\n",
       "      <td>1.0</td>\n",
       "      <td>4</td>\n",
       "      <td>1</td>\n",
       "      <td>0</td>\n",
       "      <td>16.541052</td>\n",
       "      <td>0</td>\n",
       "      <td>0</td>\n",
       "      <td>...</td>\n",
       "      <td>0</td>\n",
       "      <td>0</td>\n",
       "      <td>0</td>\n",
       "      <td>0</td>\n",
       "      <td>0</td>\n",
       "      <td>0</td>\n",
       "      <td>0</td>\n",
       "      <td>0</td>\n",
       "      <td>0</td>\n",
       "      <td>0.0</td>\n",
       "    </tr>\n",
       "    <tr>\n",
       "      <th>1</th>\n",
       "      <td>3</td>\n",
       "      <td>0</td>\n",
       "      <td>9238eb7fc</td>\n",
       "      <td>1.0</td>\n",
       "      <td>2</td>\n",
       "      <td>0</td>\n",
       "      <td>1</td>\n",
       "      <td>0.133396</td>\n",
       "      <td>0</td>\n",
       "      <td>0</td>\n",
       "      <td>...</td>\n",
       "      <td>0</td>\n",
       "      <td>0</td>\n",
       "      <td>0</td>\n",
       "      <td>0</td>\n",
       "      <td>0</td>\n",
       "      <td>0</td>\n",
       "      <td>0</td>\n",
       "      <td>0</td>\n",
       "      <td>0</td>\n",
       "      <td>0.0</td>\n",
       "    </tr>\n",
       "    <tr>\n",
       "      <th>2</th>\n",
       "      <td>7</td>\n",
       "      <td>0</td>\n",
       "      <td>f0a1f2b90</td>\n",
       "      <td>2.0</td>\n",
       "      <td>4</td>\n",
       "      <td>0</td>\n",
       "      <td>1</td>\n",
       "      <td>16.541052</td>\n",
       "      <td>0</td>\n",
       "      <td>0</td>\n",
       "      <td>...</td>\n",
       "      <td>0</td>\n",
       "      <td>0</td>\n",
       "      <td>0</td>\n",
       "      <td>0</td>\n",
       "      <td>0</td>\n",
       "      <td>0</td>\n",
       "      <td>0</td>\n",
       "      <td>0</td>\n",
       "      <td>0</td>\n",
       "      <td>0.0</td>\n",
       "    </tr>\n",
       "    <tr>\n",
       "      <th>3</th>\n",
       "      <td>3</td>\n",
       "      <td>0</td>\n",
       "      <td>7d028bdea</td>\n",
       "      <td>4.0</td>\n",
       "      <td>2</td>\n",
       "      <td>1</td>\n",
       "      <td>0</td>\n",
       "      <td>9.364370</td>\n",
       "      <td>0</td>\n",
       "      <td>0</td>\n",
       "      <td>...</td>\n",
       "      <td>0</td>\n",
       "      <td>0</td>\n",
       "      <td>0</td>\n",
       "      <td>0</td>\n",
       "      <td>0</td>\n",
       "      <td>0</td>\n",
       "      <td>0</td>\n",
       "      <td>0</td>\n",
       "      <td>0</td>\n",
       "      <td>0.0</td>\n",
       "    </tr>\n",
       "    <tr>\n",
       "      <th>4</th>\n",
       "      <td>1</td>\n",
       "      <td>0</td>\n",
       "      <td>8377bfe97</td>\n",
       "      <td>0.0</td>\n",
       "      <td>2</td>\n",
       "      <td>0</td>\n",
       "      <td>1</td>\n",
       "      <td>0.006670</td>\n",
       "      <td>0</td>\n",
       "      <td>0</td>\n",
       "      <td>...</td>\n",
       "      <td>0</td>\n",
       "      <td>0</td>\n",
       "      <td>0</td>\n",
       "      <td>0</td>\n",
       "      <td>0</td>\n",
       "      <td>0</td>\n",
       "      <td>0</td>\n",
       "      <td>1</td>\n",
       "      <td>0</td>\n",
       "      <td>0.0</td>\n",
       "    </tr>\n",
       "  </tbody>\n",
       "</table>\n",
       "<p>5 rows × 4494 columns</p>\n",
       "</div>"
      ],
      "text/plain": [
       "   Age  VideoAmt      PetID  PhotoAmt  AdoptionSpeed  Type_1  Type_2  \\\n",
       "0   36         0  3f8824a3b       1.0              4       1       0   \n",
       "1    3         0  9238eb7fc       1.0              2       0       1   \n",
       "2    7         0  f0a1f2b90       2.0              4       0       1   \n",
       "3    3         0  7d028bdea       4.0              2       1       0   \n",
       "4    1         0  8377bfe97       0.0              2       0       1   \n",
       "\n",
       "   Probability  a  a g  ...  State_41332  State_41335  State_41336  \\\n",
       "0    16.541052  0    0  ...            0            0            0   \n",
       "1     0.133396  0    0  ...            0            0            0   \n",
       "2    16.541052  0    0  ...            0            0            0   \n",
       "3     9.364370  0    0  ...            0            0            0   \n",
       "4     0.006670  0    0  ...            0            0            0   \n",
       "\n",
       "   State_41342  State_41345  State_41361  State_41367  State_41401  \\\n",
       "0            0            0            0            0            0   \n",
       "1            0            0            0            0            0   \n",
       "2            0            0            0            0            0   \n",
       "3            0            0            0            0            0   \n",
       "4            0            0            0            0            1   \n",
       "\n",
       "   State_41415  fee_per_pet  \n",
       "0            0          0.0  \n",
       "1            0          0.0  \n",
       "2            0          0.0  \n",
       "3            0          0.0  \n",
       "4            0          0.0  \n",
       "\n",
       "[5 rows x 4494 columns]"
      ]
     },
     "execution_count": 2,
     "metadata": {},
     "output_type": "execute_result"
    }
   ],
   "source": [
    "df_train = pd.read_csv(\"../../Data/Processed/train_cleaned.csv\")\n",
    "print(df_train.columns)\n",
    "df_train.head()"
   ]
  },
  {
   "cell_type": "code",
   "execution_count": 3,
   "metadata": {},
   "outputs": [
    {
     "name": "stdout",
     "output_type": "stream",
     "text": [
      "Index(['Age', 'VideoAmt', 'PetID', 'PhotoAmt', 'Type_1', 'Type_2',\n",
      "       'Probability', ' ', 'a', 'a ki',\n",
      "       ...\n",
      "       'State_41332', 'State_41335', 'State_41336', 'State_41342',\n",
      "       'State_41345', 'State_41361', 'State_41367', 'State_41401',\n",
      "       'State_41415', 'fee_per_pet'],\n",
      "      dtype='object', length=2666)\n"
     ]
    },
    {
     "data": {
      "text/html": [
       "<div>\n",
       "<style scoped>\n",
       "    .dataframe tbody tr th:only-of-type {\n",
       "        vertical-align: middle;\n",
       "    }\n",
       "\n",
       "    .dataframe tbody tr th {\n",
       "        vertical-align: top;\n",
       "    }\n",
       "\n",
       "    .dataframe thead th {\n",
       "        text-align: right;\n",
       "    }\n",
       "</style>\n",
       "<table border=\"1\" class=\"dataframe\">\n",
       "  <thead>\n",
       "    <tr style=\"text-align: right;\">\n",
       "      <th></th>\n",
       "      <th>Age</th>\n",
       "      <th>VideoAmt</th>\n",
       "      <th>PetID</th>\n",
       "      <th>PhotoAmt</th>\n",
       "      <th>Type_1</th>\n",
       "      <th>Type_2</th>\n",
       "      <th>Probability</th>\n",
       "      <th></th>\n",
       "      <th>a</th>\n",
       "      <th>a ki</th>\n",
       "      <th>...</th>\n",
       "      <th>State_41332</th>\n",
       "      <th>State_41335</th>\n",
       "      <th>State_41336</th>\n",
       "      <th>State_41342</th>\n",
       "      <th>State_41345</th>\n",
       "      <th>State_41361</th>\n",
       "      <th>State_41367</th>\n",
       "      <th>State_41401</th>\n",
       "      <th>State_41415</th>\n",
       "      <th>fee_per_pet</th>\n",
       "    </tr>\n",
       "  </thead>\n",
       "  <tbody>\n",
       "    <tr>\n",
       "      <th>0</th>\n",
       "      <td>1</td>\n",
       "      <td>0</td>\n",
       "      <td>f42161740</td>\n",
       "      <td>10.0</td>\n",
       "      <td>0</td>\n",
       "      <td>1</td>\n",
       "      <td>0.006670</td>\n",
       "      <td>0</td>\n",
       "      <td>0</td>\n",
       "      <td>0</td>\n",
       "      <td>...</td>\n",
       "      <td>0</td>\n",
       "      <td>0</td>\n",
       "      <td>0</td>\n",
       "      <td>0</td>\n",
       "      <td>0</td>\n",
       "      <td>0</td>\n",
       "      <td>0</td>\n",
       "      <td>0</td>\n",
       "      <td>0</td>\n",
       "      <td>0.0</td>\n",
       "    </tr>\n",
       "    <tr>\n",
       "      <th>1</th>\n",
       "      <td>6</td>\n",
       "      <td>0</td>\n",
       "      <td>0118db3a8</td>\n",
       "      <td>2.0</td>\n",
       "      <td>1</td>\n",
       "      <td>0</td>\n",
       "      <td>16.541052</td>\n",
       "      <td>0</td>\n",
       "      <td>0</td>\n",
       "      <td>0</td>\n",
       "      <td>...</td>\n",
       "      <td>0</td>\n",
       "      <td>0</td>\n",
       "      <td>0</td>\n",
       "      <td>0</td>\n",
       "      <td>0</td>\n",
       "      <td>0</td>\n",
       "      <td>0</td>\n",
       "      <td>0</td>\n",
       "      <td>0</td>\n",
       "      <td>0.0</td>\n",
       "    </tr>\n",
       "    <tr>\n",
       "      <th>2</th>\n",
       "      <td>2</td>\n",
       "      <td>0</td>\n",
       "      <td>e5164d828</td>\n",
       "      <td>2.0</td>\n",
       "      <td>1</td>\n",
       "      <td>0</td>\n",
       "      <td>0.053358</td>\n",
       "      <td>0</td>\n",
       "      <td>0</td>\n",
       "      <td>0</td>\n",
       "      <td>...</td>\n",
       "      <td>0</td>\n",
       "      <td>0</td>\n",
       "      <td>0</td>\n",
       "      <td>0</td>\n",
       "      <td>0</td>\n",
       "      <td>0</td>\n",
       "      <td>0</td>\n",
       "      <td>1</td>\n",
       "      <td>0</td>\n",
       "      <td>0.0</td>\n",
       "    </tr>\n",
       "    <tr>\n",
       "      <th>3</th>\n",
       "      <td>10</td>\n",
       "      <td>0</td>\n",
       "      <td>5335bfb38</td>\n",
       "      <td>0.0</td>\n",
       "      <td>1</td>\n",
       "      <td>0</td>\n",
       "      <td>0.006670</td>\n",
       "      <td>0</td>\n",
       "      <td>0</td>\n",
       "      <td>0</td>\n",
       "      <td>...</td>\n",
       "      <td>0</td>\n",
       "      <td>0</td>\n",
       "      <td>0</td>\n",
       "      <td>0</td>\n",
       "      <td>0</td>\n",
       "      <td>0</td>\n",
       "      <td>0</td>\n",
       "      <td>0</td>\n",
       "      <td>0</td>\n",
       "      <td>0.0</td>\n",
       "    </tr>\n",
       "    <tr>\n",
       "      <th>4</th>\n",
       "      <td>12</td>\n",
       "      <td>0</td>\n",
       "      <td>ff2cf88a0</td>\n",
       "      <td>2.0</td>\n",
       "      <td>1</td>\n",
       "      <td>0</td>\n",
       "      <td>0.013340</td>\n",
       "      <td>0</td>\n",
       "      <td>0</td>\n",
       "      <td>0</td>\n",
       "      <td>...</td>\n",
       "      <td>0</td>\n",
       "      <td>0</td>\n",
       "      <td>0</td>\n",
       "      <td>0</td>\n",
       "      <td>0</td>\n",
       "      <td>0</td>\n",
       "      <td>0</td>\n",
       "      <td>0</td>\n",
       "      <td>0</td>\n",
       "      <td>0.0</td>\n",
       "    </tr>\n",
       "  </tbody>\n",
       "</table>\n",
       "<p>5 rows × 2666 columns</p>\n",
       "</div>"
      ],
      "text/plain": [
       "   Age  VideoAmt      PetID  PhotoAmt  Type_1  Type_2  Probability     a  \\\n",
       "0    1         0  f42161740      10.0       0       1     0.006670  0  0   \n",
       "1    6         0  0118db3a8       2.0       1       0    16.541052  0  0   \n",
       "2    2         0  e5164d828       2.0       1       0     0.053358  0  0   \n",
       "3   10         0  5335bfb38       0.0       1       0     0.006670  0  0   \n",
       "4   12         0  ff2cf88a0       2.0       1       0     0.013340  0  0   \n",
       "\n",
       "   a ki  ...  State_41332  State_41335  State_41336  State_41342  State_41345  \\\n",
       "0     0  ...            0            0            0            0            0   \n",
       "1     0  ...            0            0            0            0            0   \n",
       "2     0  ...            0            0            0            0            0   \n",
       "3     0  ...            0            0            0            0            0   \n",
       "4     0  ...            0            0            0            0            0   \n",
       "\n",
       "   State_41361  State_41367  State_41401  State_41415  fee_per_pet  \n",
       "0            0            0            0            0          0.0  \n",
       "1            0            0            0            0          0.0  \n",
       "2            0            0            1            0          0.0  \n",
       "3            0            0            0            0          0.0  \n",
       "4            0            0            0            0          0.0  \n",
       "\n",
       "[5 rows x 2666 columns]"
      ]
     },
     "execution_count": 3,
     "metadata": {},
     "output_type": "execute_result"
    }
   ],
   "source": [
    "df_test = pd.read_csv(\"../../Data/Processed/test_cleaned.csv\")\n",
    "print(df_test.columns)\n",
    "df_test.head()"
   ]
  },
  {
   "cell_type": "markdown",
   "metadata": {},
   "source": []
  },
  {
   "cell_type": "markdown",
   "metadata": {},
   "source": [
    "## Model Testing function"
   ]
  },
  {
   "cell_type": "code",
   "execution_count": 4,
   "metadata": {},
   "outputs": [],
   "source": [
    "def model_training(model, X_train, y_train, X_test):\n",
    "    model.fit(X_train, y_train.values.ravel())\n",
    "    y_pred = model.predict(X_test)\n",
    "    return(y_pred)\n",
    "\n",
    "def model_evaluation(title, model, y_test, y_pred):\n",
    "    # precision = precision_score(y_test, y_pred)\n",
    "    # recall = recall_score(y_test, y_pred)\n",
    "    precision = precision_score(y_test, y_pred, average='micro')\n",
    "    recall = recall_score(y_test, y_pred, average='micro')\n",
    "    \n",
    "    print(title)\n",
    "    print(confusion_matrix(y_test, y_pred))\n",
    "    print('Precision', precision)\n",
    "    print('Recall', recall)\n",
    "    \n",
    "    importance = []\n",
    "    if hasattr(model, 'feature_importances_'):\n",
    "        print('Feature Importance')\n",
    "        importance = []\n",
    "        for i in range(len(X_columns)):\n",
    "            importance.append([X_columns[i], model.feature_importances_[i]])\n",
    "        print(pd.DataFrame(importance).sort_values(by=1, ascending=False).head(10))\n",
    "    elif hasattr(model, 'coef_'):\n",
    "        print('Feature Importance')\n",
    "        for i in range(len(X_columns)):\n",
    "            importance.append([X_columns[i], model.coef_[i]])\n",
    "        print(pd.DataFrame(importance).sort_values(by=1, ascending=False).head(10))\n",
    "    print('')\n",
    "    return (precision, recall)\n",
    "\n",
    "def run_experiment(title, model, X_train, y_train, X_test, y_test):\n",
    "    y_pred = model_training(model, X_train, y_train, X_test)\n",
    "    precision, recall = model_evaluation(title, model, y_test, y_pred)\n",
    "    return(precision, recall)\n"
   ]
  },
  {
   "cell_type": "markdown",
   "metadata": {},
   "source": [
    "## Model Definition"
   ]
  },
  {
   "cell_type": "code",
   "execution_count": 5,
   "metadata": {},
   "outputs": [],
   "source": [
    "models = [\n",
    "    ('Naive Bayes', GaussianNB()),\n",
    "    ('RandomForestClassifier10', RandomForestClassifier(n_estimators=10, random_state=15)),\n",
    "    ('RandomForestClassifier100', RandomForestClassifier(n_estimators=100, random_state=15)),\n",
    "    ('KNeighborsClassifier', KNeighborsClassifier()),\n",
    "    ('DecisionTreeClassifier', DecisionTreeClassifier())  \n",
    "]"
   ]
  },
  {
   "cell_type": "markdown",
   "metadata": {},
   "source": [
    "## Execution Function"
   ]
  },
  {
   "cell_type": "code",
   "execution_count": 6,
   "metadata": {},
   "outputs": [],
   "source": [
    "def executetion(df_data, list_X_column, list_y_column):\n",
    "    threshold = 0.8\n",
    "    X = df_data[list_X_column]\n",
    "    \n",
    "    y = df_data[list_y_column]\n",
    "\n",
    "    X_train, X_test, y_train, y_test = train_test_split(X, y, test_size=1.0-threshold, shuffle=True)\n",
    "\n",
    "    print('X_train', X_train.shape)\n",
    "    print('y_train', y_train.shape)\n",
    "    print('X_test', X_test.shape)\n",
    "    print('y_test', y_test.shape)\n",
    "\n",
    "    results = []\n",
    "    for m in models:\n",
    "        precision, recall = run_experiment(m[0], m[1], X_train, y_train, X_test, y_test)\n",
    "        results.append([m[0], precision, recall])\n",
    "    \n",
    "    return results\n"
   ]
  },
  {
   "cell_type": "markdown",
   "metadata": {},
   "source": [
    "## Define Columns to Use"
   ]
  },
  {
   "cell_type": "code",
   "execution_count": 7,
   "metadata": {},
   "outputs": [
    {
     "name": "stdout",
     "output_type": "stream",
     "text": [
      "['Age', 'VideoAmt', 'PhotoAmt', 'Type_1', 'Type_2', 'Probability', 'a', 'a g', 'aaron ayumi', 'ab', 'ababa', 'abam', 'abandon kitten', 'abandoned kittens', 'abandoned kitty', 'abandoned newborn', 'abandoned pregnant', 'abandoned puppies', 'abang', 'abang junior', 'abba', 'abberboy', 'abbie', 'abbot', 'abby', 'abby mojo', 'abcd', 'abcd kittens', 'abcde', 'abdul', 'abe', 'abe amell', 'abg long', 'abon', 'aboo', 'abott', 'aboy', 'abree', 'abu', 'abu apu', 'abu atan', 'abu nawas', 'acang ulit', 'ace', 'aci', 'ackie', 'activator', 'acu', 'adam eve', 'addie', 'addison', 'adelina', 'adelle', 'adik', 'admes', 'adoption drive', 'adoption urgent', 'adorable beagle', 'adorable kitten', 'adorable kittens', 'adorable melody', 'adorable puppies', 'adorable puppy', 'adorable pups', 'adpoted', 'adrian', 'adult cat', 'aemy', 'aerin', 'afu', 'agent button', 'aggie', 'agnes', 'agos', 'ah bee', 'ah boo', 'ah boy', 'ah girl', 'ah gray', 'ah kao', 'ah ki', 'ah man', 'ah mao', 'ah miao', 'ah pong', 'ah pui', 'ah wong', 'ah yuet', 'ahcat', 'ai li', 'aiai', 'aida', 'aiko', 'aimee', 'aj', 'aki', 'akihiko', 'akila', 'alamsemesta mesta', 'alana', 'alaska', 'aleck', 'alex', 'alex allie', 'alfie', 'alfredo', 'alger', 'alia', 'alien', 'all black', 'all blacks', 'alley kitty', 'ally', 'almond', 'along', 'alpha', 'alvin', 'alyssa', 'am', 'amanda t', 'amang', 'amber', 'amber c', 'ameera', 'amelia', 'ami', 'ammani', 'amme', 'amos', 'amy', 'ana', 'anak kucing', 'anak nanya', 'anak terabai', 'anak yatim', 'anderson', 'andrew', 'andy', 'ang ang', 'angah', 'angel', 'angel tesco', 'angela', 'angelina', 'angelini', 'angels', 'angie', 'angie girl', 'angle ', 'angmor kia', 'anjie', 'ank kucing', 'ann ann', 'anna', 'anna elsa', 'annabella', 'annabelle', 'anne', 'anne dlh', 'annie', 'anonymous', 'anson', 'apam', 'aphrodite', 'apollo', 'apolloz', 'apple', 'apple pebbles', 'apricot', 'apricott', 'april', 'arbut', 'archie', 'ares', 'arlo', 'arthur', 'arya', 'as puppy', 'asahi corona', 'ash', 'ashe', 'asher', 'ashey', 'ashley', 'ashton', 'ashuwat', 'ashyyy', 'aslan', 'astro', 'aswad', 'athena', 'athenna', 'athi', 'atom', 'attay', 'atte metot', 'atun', 'august girl', 'augusta', 'aura solar', 'aussie', 'austin', 'autumn', 'ava', 'avata', 'aveda bow', 'awan', 'awesome', 'awesome foursome', 'awie', 'axel', 'ayong luna', 'ayu', 'ayumi', 'azula', 'azza', 'azzul', 'b', 'b boy', 'b chai', 'baba', 'babam', 'babe', 'babee', 'babie', 'babies', 'babiess', 'babu', 'baby', 'baby babie', 'baby baby', 'baby bambi', 'baby bear', 'baby boo', 'baby boris', 'baby boy', 'baby brown', 'baby cassie', 'baby coco', 'baby cute', 'baby delta', 'baby dog', 'baby doris', 'baby girl', 'baby kittens', 'baby kitty', 'baby lamb', 'baby mimi', 'baby piper', 'baby rio', 'baby rosemary', 'baby teddy', 'babytommy', 'backie', 'bacon', 'baden powell', 'bagel', 'bai bai', 'baibai', 'bailey', 'baili', 'bala', 'balcky', 'baley', 'baloo', 'bam bam', 'bam bi', 'bambam', 'bambee', 'bambi', 'bamboo', 'bamby', 'banana', 'bandit', 'banjo', 'banny', 'banshee', 'bao bao', 'baobao beibei', 'baobao rongrong', 'bapoo', 'barker', 'barney', 'barney hobbes', 'barnie', 'baron', 'baron cohen', 'barry', 'baru', 'basil', 'baskin', 'basset hound', 'batbat', 'batgirl', 'batman', 'batman baby', 'batman fearless', 'baybee', 'bb', 'bb girl', 'bbb barnaby', 'bbchendol', 'bbear', 'bboy', 'beagle', 'beanie', 'beano', 'bear', 'bear bear', 'bearbear', 'bearrr', 'beautiful', 'beauty', 'beauty girl', 'bebe', 'bebe coco', 'bebe girl', 'bebek', 'beckham', 'beckham spice', 'becky', 'bee', 'bee wee', 'beeny', 'beep beep', 'bejely', 'bel', 'bela', 'belang', 'bell', 'bella', 'bella girl', 'bella kids', 'belle', 'bellie', 'bello', 'ben', 'ben ben', 'ben orange', 'bender wang', 'beng', 'benjamin', 'benji', 'benji benjamin', 'benji boy', 'benji girl', 'benji kimi', 'benjie', 'benjji', 'benli', 'benny', 'beno', 'bentley', 'bento', 'beradik', 'berger', 'bernard', 'bernie', 'bernie girl', 'berrie', 'berry', 'bess', 'bessy', 'bessy mae', 'beth', 'beto', 'betsy', 'betty', 'beverly', 'beyonce rihana', 'bhairava bhairu', 'bheema', 'bi bi', 'bianca', 'biangpang', 'bibi', 'bibi gigi', 'bibiana', 'biddy', 'bidor', 'bieber', 'big black', 'big boy', 'big ear', 'big foot', 'big head', 'big tail', 'bigfoot', 'bii bii', 'bik', 'bill ben', 'billie', 'billu', 'billy', 'billy bob', 'billy boy', 'bima', 'bimba', 'bimbo', 'bin', 'bindi girl', 'bing bing', 'bingo', 'bingsu', 'binky', 'bino', 'bintang', 'bird bird', 'biscuit brownie', 'bj', 'blacie', 'black', 'black beauties', 'black beauty', 'black black', 'black brown', 'black cat', 'black coffee', 'black diamond', 'black dude', 'black girl', 'black kitten', 'black kittens', 'black kitty', 'black puppies', 'black puppy', 'black pups', 'black rose', 'black she', 'black snowshoe', 'black star', 'black tiger', 'black white', 'blackey', 'blackface', 'blackie', 'blackie ', 'blackie belang', 'blackie brownie', 'blackie duo', 'blackie flower', 'blackie kittens', 'blackie nose', 'blackie spayed', 'blackie spotty', 'blackies', 'blackjack', 'blackkie', 'blackly', 'blackman', 'blackwhite kitten', 'blacky', 'blacky boy', 'blacky ecky', 'blade', 'blake', 'blake jr', 'blanco', 'blanket', 'blanket buttercup', 'blaze', 'blessed', 'blessing', 'blinky', 'blondie', 'blossom', 'blu', 'blue', 'blue eye', 'blue popo', 'bluey', 'blueys', 'blur blur', 'bob marley', 'bobby', 'bobby fiv', 'bobby jr', 'bobby kakak', 'bobi', 'bobi brown', 'bobo', 'bobo bebe', 'bobo boy', 'bobo chan', 'bobo cheron', 'boboi', 'bobos sister', 'bobot', 'boboy', 'boboy luna', 'boceyyy', 'boe', 'boi boi', 'boiboi', 'bolat', 'bolt', 'bolt hunter', 'bon bon', 'bon j', 'bonbon', 'boney', 'bongo', 'bonie', 'bonita', 'bonnie', 'bony', 'boo', 'boo bear', 'boo boo', 'booboo', 'boogie boy', 'boom boom', 'boomer', 'booncit', 'booom booom', 'boots', 'boris', 'bosco', 'bosko', 'boss', 'botak', 'bouche', 'bouncy', 'bouncy boy', 'bovril', 'bowee', 'bowey', 'bowie', 'bowser', 'boxer', 'boxy', 'boy', 'boy boy', 'boyboy', 'boys', 'brad', 'branda', 'branddy', 'brandon', 'brandy', 'brave girl', 'bravo tentative', 'breeze', 'brian', 'bridgette', 'bright', 'brilliant', 'brim', 'brinda daisy', 'brisco', 'british shorthair', 'britney', 'bro sis', 'bronze', 'bros', 'brother', 'brother sister', 'brothers', 'brown boy', 'brown brown', 'brown kecik', 'brown kitten', 'brown pup', 'brown pups', 'brown sugar', 'brown tabby', 'brownbrown', 'browney', 'brownie', 'brownie and', 'brownie boy', 'brownie dd', 'brownie mickey', 'brownieboy', 'brownies', 'brownish horlick', 'brownish puppies', 'browny', 'browny brown', 'browny patch', 'browny x', 'bruce', 'brune', 'bruno', 'bruno ', 'bruno chelsea', 'brutu', 'brutus', 'bryan', 'bryls', 'bt', 'bubba', 'bubble', 'bubble girl', 'bubbles', 'bubbly', 'bubu', 'bubu ayden', 'bubu bear', 'bubu betty', 'bubu boy', 'buchi', 'buck', 'bucky simba', 'buddy', 'buddy dharma', 'buddy jr', 'buddy sparkle', 'buffy', 'bugs', 'bugsy', 'bui bui', 'bujang', 'buk buk', 'bukit juliet', 'bulat', 'bull dog', 'bulls eye', 'bum bum', 'bumblebee', 'bundle', 'bunmii', 'bunny', 'buntang', 'burger', 'buritto', 'burmese kitten', 'burmish kitten', 'burned', 'bus', 'bushy', 'bushytail', 'buster', 'buster kitten', 'butang', 'butter', 'butterball', 'buttercream', 'buttercup', 'button', 'button face', 'buttons rum', 'bw', 'bw girl', 'bwee', 'byron', 'c', 'c balang', 'c c', 'caca', 'cacang', 'cactus', 'cadbury', 'caesar', 'caesar kirbie', 'cager', 'calico', 'calico girl', 'calie', 'callie', 'cally', 'calm', 'calo', 'cameo i', 'camie whitebeard', 'camilo', 'cammy', 'camry', 'can can', 'candee', 'candy', 'canndy', 'canon', 'cap', 'cape', 'cappel', 'cappuchino', 'capri', 'captain garfield', 'captain wobbles', 'car cats', 'cara kids', 'caramel', 'caramella brown', 'carameow', 'carly', 'carmen', 'carnation girl', 'carrie', 'carrot cake', 'carrot plapi', 'casey', 'cash', 'cash mac', 'cashew', 'casper', 'casper pucca', 'casper siblings', 'caspian', 'caspien', 'cassandra cass', 'cassie', 'castor', 'cat', 'cat blackie', 'cat cat', 'cat e', 'cat no', 'cat pippa', 'cat yello', 'cateliya', 'catelyn', 'cats', 'cats kittens', 'catty', 'cc', 'ceasar', 'ceaser', 'cedric jones', 'cello', 'celly', 'cesar', 'cha', 'cha belle', 'chabee', 'chacha', 'chaco ', 'challis', 'cham', 'chamelia', 'chameng', 'champ', 'champange', 'chance', 'chanel', 'chanelle', 'channing tatum', 'chantelle', 'chanteq', 'chaochao', 'charcoal', 'charles', 'charlie', 'charlie browns', 'charlie chaplin', 'charlie faith', 'charlie obi', 'charlotte', 'charly brown', 'charmaine', 'charmie', 'charu seh', 'chase', 'chatime', 'cheeko', 'cheeky', 'cheeky kittens', 'cheepee munchee', 'cheer ', 'cheery', 'cheetah', 'cheezle', 'chellom', 'chelsea', 'chen chen', 'cheque', 'cheritie', 'cherry', 'cherry girl', 'cheryl', 'cheshire', 'cheska', 'chessy', 'chester', 'chester schnauzer', 'chester speckles', 'chestnut', 'chestnut darcy', 'cheusi', 'chewbacca', 'chewbacca chewy', 'chewy', 'chewy bear', 'chezzy', 'chi chi', 'chi kaka', 'chibi', 'chibi chan', 'chichi', 'chicky died', 'chiclet', 'chico', 'chihuahua mix', 'chiki', 'chiko', 'chilli', 'china doll', 'china jo', 'chino', 'chino et', 'chip', 'chipsmore', 'chitam', 'chiwa', 'chiwee', 'chleo patra', 'chloe', 'cho colate', 'choco', 'chocolat', 'chocolate', 'chocolate siamese', 'chocolatezzzz', 'chokie', 'choko', 'chombi', 'chomel', 'chopper', 'chorbath', 'chotty motty', 'chox', 'choy chai', 'chrissy eevie', 'christelle', 'christi', 'christian dior', 'christmas', 'christmas puppies', 'christy', 'chubbies', 'chubby', 'chuchoy', 'chuck', 'chujo', 'chumel', 'chumiko chanteq', 'chyna', 'chyna dollie', 'ci gemok', 'cicak', 'cici', 'cie cie', 'cik b', 'cik c', 'cik mau', 'cik oren', 'cik owen', 'cik puteh', 'cik tom', 'ciktam sayang', 'cimmi', 'cimpuk', 'cinderalla coco', 'cindi', 'cindy', 'cini', 'cinnamon pepper', 'cinnamonz', 'cipok', 'cit cit', 'citam', 'citrus', 'citus', 'cj', 'ck f', 'claire', 'clara', 'clarissa', 'clary fray', 'clawdette', 'clay jensen', 'cleo', 'cleopatra', 'cliff ord', 'clinger', 'clingy', 'clio', 'cliptec shorty', 'cloe', 'cloey', 'clory', 'close all', 'closed', 'cloud', 'clouds', 'cloudy', 'clover', 'cny', 'coach', 'cobey', 'coca', 'cocker', 'cocker spaniel', 'coco', 'coco chanel', 'coco fifi', 'coco girl', 'coco molly', 'coco momo', 'coco puff', 'coco spotty', 'coco suri', 'cocoa', 'coda', 'codename spitzee', 'cody', 'cody toby', 'coffee', 'coffee forest', 'coffeebear', 'coki', 'cola', 'colby', 'colby kaylee', 'cole', 'collar bear', 'collar button', 'college puppies', 'collie', 'colorfull', 'comel', 'comel adik', 'comel kecik', 'comot', 'compok', 'congo', 'connie puppies', 'construction puppies', 'cookie', 'cookie boy', 'cookie girl', 'cookie hazel', 'cookie leo', 'cookiee', 'cooper', 'cooper shadow', 'copper', 'copperoo', 'corals', 'corgi', 'corolla', 'cory', 'cottie', 'cotton', 'cottons', 'cougar', 'couldry family', 'court puppies', 'cova kittens', 'cow mow', 'cowboy', 'cownie', 'cozy', 'cq', 'crackers', 'creaky', 'cream', 'cream black', 'cream kitten', 'cream poodle', 'creammy girl', 'creamy', 'creamy boy', 'cremeo', 'cricket', 'croc', 'crocs', 'croissant', 'crowny', 'crustyblade', 'cruz', 'crystal', 'cuddle', 'cuddles', 'cuddly sisters', 'culat', 'curly', 'curry', 'cute ', 'cute boys', 'cute dog', 'cute doggy', 'cute girl', 'cute kitten', 'cute kittens', 'cute kittuns', 'cute kitty', 'cute puppies', 'cute puppy', 'cute pups', 'cutey', 'cutey kitties', 'cutie', 'cutie babies', 'cutie grumpy', 'cutie kitty', 'cutie mimi', 'cutie pie', 'cutie pies', 'cutie puppies', 'cutiepie', 'cutiepies', 'cuties', 'cuties kitties', 'cuttie', 'cuttlefish', 'd', 'd ', 'd beauty', 'd male', 'd trick', 'da da', 'dabbie', 'dacoota', 'dada', 'daisy', 'daisydog', 'dak kunyit', 'dak lang', 'dakota', 'dale female', 'dally', 'dalmation', 'dan dan', 'dana', 'dandy', 'dango', 'dania', 'danial', 'danish', 'danken', 'danno', 'danny', 'dante', 'danya', 'dapple', 'darco', 'daren', 'darlie', 'darling', 'darlings', 'darly', 'dasch', 'daschund', 'dash', 'dash tommy', 'dasher vixen', 'dashing boy', 'dashy', 'datin', 'dawg', 'dawn', 'dayang senandung', 'dazzle', 'dearkitty', 'debbie', 'debby', 'debi', 'dee dee', 'delightful puppies', 'delilah', 'demetrius albino', 'den', 'dennis', 'denzel', 'deon', 'derry', 'des', 'desa', 'devin', 'dew', 'dex', 'dexter', 'dhani dimsum', 'di di', 'diamond', 'diamond boy', 'diana', 'dicky', 'dida', 'diddle', 'didi', 'dido', 'diego frida', 'diesal', 'diesel', 'digi', 'dik acer', 'dim sum', 'dimsum', 'dina', 'dinah', 'ding', 'ding ding', 'dingo', 'dino', 'dino dizz', 'dino white', 'dio', 'dione elora', 'dior schnauzer', 'diptail', 'disney', 'dixie', 'django', 'do rei', 'dob', 'dobber puppy', 'dobbie girl', 'dobby', 'dobin', 'dobot', 'dodi junior', 'dodo', 'dodo girl', 'dodo momo', 'dodot dotty', 'doebell', 'dog', 'doggie', 'doggie r', 'doggie re', 'doggie rs', 'doggie rsl', 'doggiem', 'doggy', 'doggy picit', 'dolce maria', 'dollar', 'dolly', 'dolly pop', 'dom', 'domot', 'don', 'don gato', 'don perry', 'donatella versace', 'dong dong', 'donna kitty', 'donnie', 'donnie marie', 'donnie yen', 'donny', 'donovan', 'donut', 'doodo', 'doody', 'doosan', 'dopey', 'dora', 'dorbee', 'doremi', 'doremifa', 'dorothy', 'dory', 'dot', 'dot dot', 'dotdot', 'dots', 'dottie', 'double mix', 'double monsters', 'doughnuts', 'dr james', 'dragon', 'drake', 'drogba', 'dsh female', 'dubu', 'duchess', 'ducky', 'dudu', 'duff', 'duke', 'dumbo', 'dumi', 'dumped pups', 'dumpling', 'dunkan', 'dusky', 'dust lead', 'dusty', 'dutch', 'dutchess', 'dylan', 'e t', 'earthy', 'eaton', 'ebam', 'ebay', 'ebi girl', 'ebie', 'ebony', 'ebony ivory', 'ebony whisper', 'ecru', 'eddie', 'eddy', 'eevee', 'egg egg', 'egg tart', 'einstein', 'ekor', 'elaine', 'elbert', 'elbi', 'elena', 'elfi', 'elfie', 'eli', 'elita', 'ell woods', 'ella', 'ellie', 'elly', 'elmo', 'elroy', 'elsa', 'elsie', 'emily', 'emma', 'emmy', 'emo', 'enzo', 'erasmus', 'erlie', 'es puppy', 'esenia love', 'espresso', 'estee', 'estelle', 'et', 'ethio', 'eun nik', 'eva', 'ewa', 'exist', 'expresso', 'ey ey', 'eyes', 'f', 'fa', 'fa chai', 'fa meow', 'faezem', 'fafa', 'fafau', 'fairgirl', 'fairy', 'faith', 'faith faith', 'faithful', 'family', 'family oren', 'fancy', 'fantastic four', 'fanzy', 'farid', 'farrow', 'fat boy', 'fat fat', 'fat girl', 'fate', 'fatty', 'fatty puppies', 'fay', 'faye', 'fearless', 'feather', 'febee', 'febu', 'fedora', 'feema', 'fei chai', 'fei fei', 'fei mei', 'fei mui', 'fei poh', 'fei zai', 'feimooi', 'feisty', 'feisty girl', 'felix', 'felix kitkat', 'felix loccita', 'felix porridge', 'female', 'female doberman', 'female dog', 'female no', 'female pup', 'female puppies', 'female puppy', 'female schnauzer', 'fendi', 'fengil', 'fenny', 'ferauni', 'ferawila', 'fernando', 'ferra', 'ffiona', 'fi fi', 'fiddy', 'fidget', 'fiesta', 'fifa', 'fifi', 'fifie', 'fifth', 'fikeyz', 'fila', 'fili', 'fili girl', 'filla', 'filly', 'filo', 'fiona', 'fiona nelly', 'five lovelies', 'fizz', 'flash', 'flea', 'flipflop', 'flippy', 'flo maylee', 'flora', 'florentino albino', 'florist sunshine', 'flour', 'flow', 'flower', 'flower belle', 'fluff nosey', 'fluff puff', 'fluffets', 'fluffi', 'fluffy', 'fluffy boy', 'fluffy chub', 'fluffy luna', 'fluffy snow', 'fluffy taffy', 'followme', 'foofoo tiger', 'foojooli', 'for adoption', 'found', 'found dog', 'four awesome', 'four furkids', 'fox', 'foxy', 'foxy shishko', 'fragile', 'franco', 'franny', 'freckles', 'free kittens', 'freebie', 'frenly', 'freya', 'freya tumbleweed', 'freyja', 'frida katlo', 'friday', 'friday girl', 'frigga', 'fringe', 'friska', 'frisky', 'frodo', 'frosty', 'fugly', 'fuji', 'fun fun', 'fur ball', 'furbee', 'furbie', 'furby', 'furish girl', 'furry', 'fury', 'fuzzy', 'fye', 'fynn', 'g', 'gabriel', 'gaffey', 'gaga', 'gallery', 'gallop', 'ganda', 'gandalf', 'gapil', 'garcia', 'gardtuso', 'garfar', 'garfield', 'garfield kacho', 'garfield mimo', 'garfild', 'gari', 'garlic', 'garlicc', 'gary jihyo', 'geebell', 'gegirl', 'gegurl', 'gem', 'gemuk', 'gentle', 'gentle heart', 'george', 'george michelle', 'georgy ', 'ger ger', 'gerbera', 'gg died', 'giant', 'gibson', 'gideon', 'giggs', 'gigi', 'gilda', 'gina', 'gingeer urgent', 'ginger', 'ginger boi', 'ginger boy', 'ginger cookie', 'ginger girl', 'ginger kitten', 'ginger kitties', 'ginger peanut', 'ginger rie', 'ginger snowy', 'ginger white', 'gingerku', 'gingery', 'gingy', 'gingy tabby', 'ginny', 'ginny girl', 'giorgio armani', 'girl', 'girl girl', 'girl kitten', 'girlgirl', 'girlie', 'girls generation', 'girly', 'giro', 'gisele', 'giselle', 'giselle girl', 'gita', 'gizmo', 'glorious', 'gm', 'gobbie', 'godiva', 'gogo', 'gokey', 'golden', 'golden retriever', 'golden w', 'goldfinger', 'goldie', 'goldie goldy', 'goldo', 'goldy', 'golliegirl', 'gomes', 'gon', 'gonggong', 'gonzo', 'goober gooby', 'good day', 'good luck', 'good month', 'good year', 'goodie', 'goofy', 'google', 'gordon', 'gorgeous cats', 'gorgeous girls', 'got', 'gou gou', 'gr', 'grace', 'gracie', 'gracy', 'gray', 'grazie', 'green', 'gremlin', 'gremlin kaka', 'gretle', 'grey', 'grey black', 'grey kitten', 'grey midnight', 'greybaron tobytabby', 'greyskull', 'greysy', 'grizzly bear', 'groo', 'gruff', 'grumpy', 'guai guai', 'guan yin', 'guana', 'guardhouse pups', 'gucci', 'gugu', 'guiness', 'guinevere', 'guinness', 'gumdrop', 'gumu', 'gunner', 'gunther', 'guo guo', 'gus', 'gustavo', 'guster', 'guys', 'gwayne', 'gwennie', 'gypsie willow', 'h', 'h ppy', 'hachi', 'hachi hashi', 'hachiko', 'hair ball', 'hakim', 'haku', 'haley', 'halle', 'ham dan', 'hammy leo', 'handsome', 'handsome boy', 'handsome boys', 'handsome kitties', 'handsome lucky', 'handsome momo', 'handsomelab', 'hani bani', 'hannah', 'hans', 'hans solo', 'hansel gretel', 'hansem boy', 'hansen', 'hanson', 'hao hao', 'happie', 'happy', 'happy ', 'happy boy', 'happy chan', 'happy guard', 'happy lucky', 'happy puppy', 'happymama', 'har mou', 'har nee', 'hara', 'harima', 'harley', 'harri', 'harrier', 'harriot purr', 'harry', 'haru neko', 'harvey', 'hash brown', 'hashbrown', 'havana blue', 'havoc', 'hayden', 'hayley', 'hazel', 'hazel winter', 'hazy', 'healthy', 'healthy kitten', 'heather', 'heaven', 'hei bing', 'hei hei', 'hei niu', 'heidi', 'heihei', 'hello kitty', 'helo colorpoint', 'heng heng', 'hengy', 'henna', 'henri', 'henrry', 'henry', 'hera', 'herbie', 'hercuba', 'hero', 'hershey', 'hewey', 'hey b', 'heydee', 'hi puppies', 'highway kitty', 'hiker', 'hiro', 'hiro jr', 'hiroki', 'hitam', 'hob nob', 'hobbes', 'hobo', 'hoclicks', 'hodor', 'holly', 'holly girl', 'home', 'homeless', 'homeless puppies', 'homer', 'honey', 'honeybun', 'honeycomb honey', 'hong hong', 'hootch', 'hope', 'hope kitty', 'horlick', 'horlicks', 'hot mum', 'houdini', 'hua', 'huahua', 'hualulu', 'huat huat', 'huat puppies', 'huckjam', 'huey', 'hug hug', 'huggie bear', 'huggieboy', 'hugo', 'hui hui', 'huihui', 'hunt', 'hunter', 'hush', 'huskies', 'husky', 'husky boy', 'husky mixed', 'husky spitz', 'huskymix', 'huts', 'i fora', 'iban', 'ice', 'ice cream', 'ikea', 'imogene', 'indah', 'indy', 'inez', 'ingrid', 'inno', 'ino', 'inoki', 'io female', 'io male', 'ipin', 'irina', 'iris', 'irish', 'isaac', 'isabella', 'isabelle', 'isha', 'issebelle', 'itam', 'ito', 'iv', 'ivan', 'izzie', 'izzy', 'j', 'j junior', 'jacinto', 'jack', 'jack didi', 'jack jack', 'jack jr', 'jack puppy', 'jack rosie', 'jack russell', 'jacker', 'jackie', 'jackie boy', 'jackjack', 'jacklene', 'jacko', 'jacktee', 'jacky', 'jacky bulat', 'jacky jessie', 'jacob', 'jacoba', 'jacq', 'jacqi', 'jade', 'jade mae', 'jaeger', 'jaffe', 'jager', 'jagger', 'jaja', 'jake', 'jake boy', 'jalen', 'jamaica kiss', 'james', 'james bond', 'jamey', 'jamie', 'jamy', 'jand', 'jane', 'jane doe', 'jane grey', 'jangle', 'jansi', 'japanese bobtail', 'jaq jaq', 'jasibel', 'jasmine', 'jason', 'jasper', 'jasper daisy', 'jasz', 'jasz michael', 'java', 'javad', 'jaws', 'jay', 'jayden', 'jazzmin', 'jazzy', 'jazzy jinggles', 'jd', 'jeany', 'jebat cleo', 'jedi', 'jeevan', 'jeff', 'jefry', 'jelita', 'jelly baby', 'jelly bean', 'jellybean', 'jemah', 'jenna', 'jenny', 'jenny baby', 'jeri', 'jerri', 'jerry', 'jerry boy', 'jess', 'jessabelle', 'jesse', 'jessie', 'jessie jenny', 'jessy', 'jessy messi', 'jester', 'jet', 'jet black', 'jia jia', 'jiggi', 'jil', 'jill', 'jill girl', 'jillo', 'jilly', 'jimbo', 'jimi', 'jiminez', 'jimmy', 'jin bok', 'jing jing', 'jinger', 'jingga', 'jinggo', 'jingle', 'jingle bell', 'jingles', 'jingo bell', 'jiro', 'jj', 'jo', 'jo jo', 'jo jojo', 'joannie', 'joci chai', 'joe', 'joey', 'johan', 'john', 'johnc', 'johnny', 'johny', 'jojo', 'jojo boy', 'jojo girl', 'jolie', 'jolin', 'jolly', 'jolly watchdog', 'jon jon', 'jon snow', 'joni', 'jonker', 'jooby', 'jordon', 'josephine', 'josh', 'josy', 'joy', 'jr', 'js m', 'ju ju', 'juggernaut', 'juju', 'juli', 'julie', 'julie maya', 'juling', 'jumbo', 'jumboboy', 'jumborine', 'jumper', 'jumpy', 'june', 'june june', 'jungle', 'junior', 'junior abang', 'junior sweetie', 'junjun', 'juno', 'juno miko', 'juri', 'jusha', 'just rescued', 'justin', 'juulie', 'jy f', 'jy m', 'k bill', 'k charley', 'k haki', 'k happy', 'k herbie', 'k hunter', 'k joey', 'k jorge', 'k kina', 'k knox', 'k meeeeeeeeeeeeeeeeee', 'k momo', 'ka el', 'kacha', 'kadi', 'kafee', 'kai puppies', 'kaira', 'kaiser', 'kaka', 'kaka akira', 'kakak', 'kakchik', 'kali', 'kammy', 'kangar', 'kangga', 'kanna boy', 'kanthaka', 'kanye', 'kara', 'karamel', 'karishma', 'karlo', 'karu', 'kash', 'kasik', 'kate', 'katey snow', 'katherine', 'katia neko', 'katie', 'katniss', 'kato', 'katty', 'katty video', 'katumbaa henna', 'katy', 'katy purry', 'katya', 'kausilya', 'kawaii', 'kay', 'kaya bun', 'kaya roll', 'kayla', 'kc', 'kcik', 'kd', 'keanu', 'kechik cheq', 'kecik', 'kedah area', 'keen keen', 'keight', 'keiko', 'keira', 'keith', 'keity', 'keju', 'kekok', 'kelabu', 'kellie', 'kelly', 'kelso', 'keluarga belang', 'keluarga merdeka', 'kembang', 'ken', 'kendi', 'kendra', 'kenit', 'kenji', 'kenjo boy', 'kennedy', 'kent', 'kenzo', 'keon', 'kesian kittens', 'kevin', 'key key', 'kfc', 'kfc boy', 'kg', 'khaleesi', 'kiara', 'kicap', 'kicik', 'kiddie', 'kiddos', 'kido', 'kiera', 'kieran nitsa', 'kiki', 'kiki lala', 'kiko', 'kikopup', 'kili', 'kim bum', 'kimba', 'kimberly', 'kimchi', 'kimi', 'kimi macie', 'kimmie', 'kimmy', 'kin', 'kinell', 'king', 'kingkong leo', 'kira', 'kirby', 'kiro', 'kiss', 'kit kat', 'kitten', 'kitten cat', 'kitten f', 'kitten kitten', 'kitten no', 'kitten ra', 'kitten rescue', 'kitten rr', 'kitten s', 'kitten sweetie', 'kittens', 'kittens batch', 'kittens litter', 'kittens tabbies', 'kittie girl', 'kitties', 'kitties mami', 'kitty', 'kitty and', 'kitty k', 'kitty kittens', 'kitty kitty', 'kitty s', 'kittycat', 'kittyyy', 'kity mini', 'kiwi', 'kk', 'kl boy', 'kl siblings', 'klang nomad', 'klang puppies', 'klang pups', 'klein', 'kleintje', 'klin', 'klippy', 'knotti', 'ko pak', 'koala bear', 'kobe', 'koby', 'kodi', 'kodo', 'kofi annan', 'kogi', 'koji', 'koko', 'koko jelly', 'kolbi boy', 'koldie', 'koly', 'komi', 'kong kong', 'konstant family', 'kontot', 'kopi', 'kopi o', 'koppi', 'korgi', 'kourtney khloe', 'kris', 'krismas', 'kriss', 'kristal', 'kristen', 'kruppy', 'krysta', 'ktty', 'ku gua', 'kubi', 'kuchik', 'kuku', 'kumbang', 'kumina', 'kungki boy', 'kuning', 'kunyuk', 'kuro', 'kushi', 'kuttie', 'kutty', 'kutty boy', 'kyan wolfe', 'kyky', 'kyle', 'kyra', 'l', 'la dyy', 'lab mix', 'lacey', 'lacky', 'lacy layla', 'lady', 'lady black', 'lady smellanor', 'ladybird', 'ladybug', 'lai', 'laika', 'lala', 'lala chan', 'lala lili', 'lalat', 'lambert', 'landlord', 'langgam', 'lanister', 'lanky', 'lao da', 'lao er', 'larry', 'larry boy', 'lassie', 'latte', 'latte c', 'latte espresso', 'lattte', 'lay', 'layla', 'le le', 'leah', 'leela', 'leeloo', 'leena', 'leep', 'legacy', 'legend', 'lego', 'lei lei', 'leia', 'lela', 'lemon', 'lemon boy', 'lemonade', 'lena', 'lengleng', 'lennie', 'leo', 'leo binky', 'leo kittens', 'leona', 'leopard et', 'leornardo', 'leshem', 'lesley', 'leslie', 'lesly', 'levi', 'lex', 'lex luthor', 'lexi', 'lexy', 'li li', 'lia kitties', 'liam', 'light heart', 'lightning', 'lika', 'lil belle', 'lil brownie', 'lil daisy', 'lil kim', 'lil kitten', 'lil kitty', 'lil po', 'lil russell', 'lila', 'lili lala', 'lilia', 'lilly', 'lilly urgent', 'lilo', 'lilo brownie', 'lily', 'lily girl', 'lily lulu', 'lily rose', 'lily tiger', 'lincy', 'linda', 'ling ling', 'linken', 'linsay', 'linus hermes', 'lio', 'lion', 'lipstick ashton', 'lisa', 'lisa girl', 'litt vamp', 'litter puppies', 'little', 'little abby', 'little angel', 'little angels', 'little baby', 'little blackie', 'little blackies', 'little blacky', 'little brown', 'little dot', 'little dragon', 'little eyebrow', 'little fa', 'little frosty', 'little grey', 'little kitten', 'little kittens', 'little kitties', 'little marie', 'little meow', 'little monkey', 'little monster', 'little mooo', 'little munky', 'little one', 'little peanut', 'little princesses', 'little pudding', 'little pup', 'little puppies', 'little puppy', 'little purple', 'little reggie', 'little shadow', 'little shiva', 'little stacey', 'little tabby', 'little tiger', 'little toby', 'little tweety', 'little white', 'little yenyen', 'littlebear', 'litto', 'lix', 'lobo', 'lockiey', 'logan', 'loki', 'loki lulu', 'lola', 'lolita', 'lollipop', 'lolly', 'lollypop', 'lolo', 'long socks', 'longface', 'longkang cutie', 'longxyy', 'lora', 'lost angel', 'lost dog', 'lotus', 'lou', 'louie', 'louis', 'louise', 'love', 'love puppy', 'lovely', 'lovely kitten', 'lovely puppies', 'lover boy', 'lovey', 'lovey dovey', 'lowey tommy', 'lu lu', 'luara', 'luca', 'luca bobby', 'lucas', 'lucas lea', 'lucious lion', 'luckie', 'luckly', 'lucky', 'lucky angel', 'lucky boy', 'lucky dog', 'lucky eight', 'lucky girl', 'lucky kittens', 'lucky kiwi', 'lucky paws', 'lucky puppies', 'lucky pups', 'lucky star', 'luckybrown', 'lucy', 'lucy black', 'lucy luby', 'lui lui', 'luke', 'luke boy', 'luki', 'lulu', 'luna', 'luna lovegood', 'luna maya', 'lunaa', 'lusi', 'lynx', 'm', 'maata martin', 'maaya', 'mabel', 'mable', 'mac', 'mac sparky', 'mace', 'macho', 'maco', 'macy', 'macy gray', 'maddie', 'madge', 'madonna', 'magenta', 'maggi', 'maggie', 'magic', 'magnolia', 'mago', 'mailo', 'maisie meow', 'maisy', 'mak teh', 'makcik', 'maksim', 'male kittens', 'male puppies', 'male puppy', 'malee', 'mali', 'malibu', 'mallow', 'mama', 'mama brown', 'mama dani', 'mama k', 'mama siam', 'mambo', 'mami', 'mamie', 'mamma', 'manchester', 'mandee', 'mandy', 'mange face', 'mango', 'mani', 'manis', 'manja', 'manja bella', 'manny', 'manson', 'manu', 'many cats', 'mao mao', 'maple', 'marble', 'marble fruitcake', 'march', 'marco', 'maria', 'marie girl', 'markonah', 'markus swarovski', 'marley', 'marmalade', 'maroo', 'maroon kitty', 'marry', 'marshmallow', 'maru', 'marvin boy', 'mary', 'mary mary', 'maryjane', 'mas', 'mascara', 'masdor', 'mask', 'massimo latte', 'matisse', 'matta', 'mattie', 'max', 'max biondi', 'max boy', 'max molly', 'maxi', 'maxie', 'maximilus', 'maximus', 'maxine', 'maxtor', 'maxwell', 'maxx', 'maxy', 'may', 'may flower', 'may may', 'maya', 'mayo', 'mayo mayo', 'mayo puppies', 'mayo pups', 'mazda', 'maze', 'mc hantu', 'mckenzie', 'mcky', 'meadow', 'meatball', 'mee ho', 'meek', 'meeka', 'meeko', 'meeky', 'meena', 'meenu', 'meeow', 'meera', 'mega', 'megan', 'mehri', 'mei', 'mei mei', 'meiji', 'meimei', 'mel', 'mel d', 'mel mel', 'melo', 'melody', 'melon', 'melor', 'melrose', 'melvin percy', 'meme', 'memey', 'memo', 'meng meng', 'mengmeng', 'mentos', 'menu', 'meoooooo', 'meow', 'meow meow', 'meow zai', 'meowly', 'meowmeow', 'meowmeoww', 'meowzer', 'merc', 'mercy', 'mercy residents', 'meredith', 'merlin', 'merpati', 'meshmesh', 'mesky', 'messy', 'messy puppy', 'mew', 'mew mew', 'mex', 'meyer', 'mi mi', 'mia', 'mia hutch', 'miao', 'miao mi', 'miao miao', 'miaomiao', 'miau miau', 'miaw', 'mice', 'micheal', 'michelle', 'michelle rip', 'michi', 'micho', 'mick', 'mick mick', 'mickey', 'mickey girl', 'mickey mimie', 'micky', 'middly', 'midnight', 'midnight eclipse', 'midnite', 'mieru', 'miff', 'mighty monty', 'migo', 'mii', 'miji', 'mijiang', 'miju', 'mika', 'mika bella', 'mikel', 'miki', 'miki caely', 'mikii', 'mikio', 'mikka', 'mikko kikko', 'miko', 'mikoo', 'mikoo bouche', 'miky', 'mila', 'miley', 'mili', 'milk', 'milk tea', 'milky', 'milky mimi', 'milla', 'millan', 'miller louisa', 'millie', 'millie kitty', 'millie milo', 'million', 'milly', 'milo', 'milo brown', 'milo siblings', 'milton', 'mimey', 'mimi', 'mimi d', 'mimi girl', 'mimi momo', 'mimi nugget', 'mimimo', 'mimmy', 'mimo', 'min', 'minchi', 'mindy', 'ming', 'ming ming', 'mingmin', 'mingow', 'mini', 'mini b', 'mini cc', 'mini cooper', 'mini pinchies', 'mini tiger', 'miniature pinscher', 'minion', 'minitiger', 'mink', 'minmin miumiu', 'minnie', 'minnie ', 'minnie girl', 'minny', 'minoo', 'minori', 'minpin', 'mint', 'minty', 'mio', 'miow', 'miracle', 'miracle five', 'miro', 'misha', 'mishka', 'mishoo', 'miskin', 'miso', 'mison', 'miss', 'miss abby', 'miss brownie', 'miss gorgeous', 'miss playful', 'miss tinnie', 'missy', 'missy lucy', 'missywhite', 'misty', 'mitang', 'mitten', 'mittens', 'mitto', 'miu miu', 'miuw', 'mix', 'mix bengal', 'mix breed', 'mix kitten', 'mix kitty', 'mixed', 'mixed puppies', 'mixed puppy', 'mixie', 'miyaki', 'miyu', 'mizamo', 'mj', 'mj siamese', 'mk', 'ml', 'mo cha', 'mo joe', 'mo mo', 'moana', 'moby', 'mocha', 'mochi', 'mochi ', 'mochi koki', 'mochi pickles', 'moglet', 'mogu', 'mohawk', 'mohawk babies', 'moisy', 'mojie', 'mojo', 'mojo jojo', 'moka', 'mokki', 'molek', 'mollie', 'mollie millie', 'molly', 'molly momol', 'momiot', 'momma', 'mommo', 'mommo family', 'mommy kittens', 'momo', 'momo moko', 'momot', 'momsik', 'mona', 'monday', 'monday girl', 'money', 'mongrel puppies', 'monica', 'monies wong', 'moniq', 'monkey', 'mono', 'monoboy', 'monsi gershon', 'monsoon', 'monsoon brothers', 'month kittens', 'months', 'moo', 'moo j', 'moo moo', 'moo zora', 'moon', 'moon jelly', 'moon light', 'moossy', 'mora', 'more puppiess', 'mori', 'mork', 'morpheus', 'morrie', 'morrow', 'moshi luxie', 'mother dog', 'motty', 'mou', 'mou mou', 'mouse', 'mowgli', 'mowie', 'mpsp f', 'mr bean', 'mr biggle', 'mr black', 'mr blackie', 'mr bling', 'mr champ', 'mr dyno', 'mr grey', 'mr handsome', 'mr hugo', 'mr mishoo', 'mr nighty', 'mr o', 'mr peach', 'mr potato', 'mr publika', 'mr schumy', 'mr socks', 'mr stripey', 'mr tiny', 'mr wong', 'mr zee', 'mr zorro', 'mrs snow', 'ms daym', 'ms doby', 'ms koshka', 'ms ozel', 'ms zachy', 'muaji', 'muddy sandy', 'muezza', 'muezza marmalade', 'muffin', 'muffin cupcake', 'muffy', 'mugen', 'mugsy', 'mui mui', 'muimui', 'muka boy', 'muki', 'mulan', 'multy xanie', 'mummies', 'mummy', 'mummy kittens', 'mummyandkitties', 'mumsie kitty', 'mumu', 'munchi', 'munchies', 'munchkin', 'munchkin miko', 'munchy', 'murphy', 'musang', 'musey', 'mush', 'mushi', 'mushroom', 'mushu', 'mushu mexico', 'musketeers', 'mustard tortilla', 'myka', 'mylo', 'mystery', 'na na', 'nach', 'nacho', 'nadja', 'nala', 'nala fry', 'nala simba', 'nameless', 'nana', 'nana nani', 'nanao', 'nancy', 'nanna', 'nanny', 'napoleon', 'naranja', 'narmeh', 'naru', 'nat', 'naughty', 'neelu', 'nefertiti', 'neil gaiman', 'neilly', 'nellie', 'nelly', 'nemo', 'nene kimie', 'nennen', 'nero', 'neslo', 'new kittens', 'new pups', 'newborn kittens', 'newton', 'next', 'neyo', 'niao', 'nibble', 'nichi', 'nick', 'nickhun', 'nicky', 'nico', 'nicole', 'nie nie', 'nigina tommy', 'niki', 'nikita', 'nikki', 'nikko', 'niko', 'nikolas', 'nikua', 'nil', 'nila', 'nile', 'nimbus', 'nina', 'nini', 'ninie', 'ninja', 'ninja kittens', 'nisha girl', 'nishi', 'nishinoya noya', 'nita', 'niu', 'niu niu', 'niuniu', 'nivea', 'no land', 'no_name', 'noah', 'nobu', 'nobu yoshi', 'noel', 'noir', 'nola', 'nomi kitten', 'non', 'nona', 'noname', 'nondi kira', 'none', 'none yet', 'nonet', 'noodle', 'nori', 'norma jean', 'norman', 'not given', 'not yet', 'notti', 'nottie choomi', 'notty', 'novy', 'now', 'nugget', 'nuna', 'nuno', 'nutella', 'nutmeg', 'nyli', 'o peng', 'oaks', 'ocean', 'ocha', 'ochado', 'octo', 'october', 'oddy', 'odie', 'odin', 'odis', 'odory', 'offwhite', 'ogen oyen', 'ohno', 'oj', 'okki', 'olaf', 'olat', 'old lady', 'oldie', 'oldiee', 'ole', 'olga', 'olio', 'olive', 'oliver', 'olivia', 'ollie', 'olly oggy', 'olynn', 'omari', 'omen', 'omey', 'omok', 'omren', 'one', 'ong lai', 'ongey', 'ongie', 'onn onn', 'onyx', 'opal', 'opie', 'opot', 'optimus prime', 'opus', 'oracle', 'orange', 'orange baby', 'orange boy', 'orange cats', 'orange kitten', 'orange kitty', 'orange rainrain', 'orange s', 'orange tabby', 'oranges nuning', 'orangina', 'oren', 'oren comot', 'oren friends', 'orenbaby', 'orengy', 'orenji ', 'orenn', 'oreo', 'oreo dexter', 'oreo mimi', 'orey yo', 'ori', 'orion', 'orkim', 'orphaned puppies', 'oscar', 'oscar rufus', 'oshi', 'oshin lola', 'osky', 'othman', 'otong', 'outsider', 'ovaltine', 'ovi', 'owen', 'oyen', 'ozzy', 'p', 'p ', 'pablo', 'pachino', 'pacino', 'paco', 'pacpac', 'padaiyappa', 'paddy', 'padi', 'pampkin', 'panda', 'panda boy', 'panda girl', 'panda pups', 'pandan indah', 'pandas', 'pandora', 'panther', 'panthera', 'pantra', 'pappy', 'paris', 'parker', 'parkie', 'parsley', 'pat ches', 'patch', 'patch boy', 'patches', 'patchy', 'patchy boy', 'patience', 'paul', 'pawny', 'peach', 'peaches', 'peaches cream', 'peaches honeystarz', 'peachuz', 'peanut', 'peanut butter', 'peanut scruffy', 'pearl', 'pearly', 'pebble', 'pebbles', 'pebbles pepper', 'peeko boy', 'pegasus', 'pekingese', 'pekingese male', 'penny', 'pepa pepper', 'pepero poppy', 'pepper', 'pepper maltipoo', 'pepper pots', 'pepperee', 'peppermint', 'pepperr', 'peppi', 'peppito', 'pepsi', 'pepsi cola', 'percuma', 'perky', 'perro', 'perseus', 'pesar', 'petit tom', 'pf', 'pf ', 'pf tammy', 'phantom', 'phil', 'philippa pippa', 'philo sophy', 'phoebe', 'phoebee', 'phoenix', 'phrase_name', 'pi pi', 'picco', 'pickles', 'pico', 'piddi', 'pie rat', 'pikachu', 'piko', 'pillow', 'pincy', 'ping ping', 'ping ren', 'pink ranger', 'pinky', 'pinky choky', 'pinocchio', 'pinto', 'piper', 'pipi', 'pipka', 'pippa pepper', 'pippin', 'pipsqueak', 'pipy', 'pirate', 'pishi', 'pitiful mummy', 'pits pats', 'pity', 'pity pups', 'pixel', 'pixie', 'pixie pebbles', 'pixie pepper', 'pixy', 'pj', 'plato', 'playful', 'playful girl', 'playful kittens', 'plumpkins', 'pluto', 'po', 'po jolie', 'poby', 'poci', 'poe', 'poison', 'pokimon', 'pokky', 'polar', 'polar bear', 'polar panther', 'polar porter', 'police', 'polka dots', 'pollux', 'polly', 'polo', 'polo girl', 'pom', 'pong pong', 'ponky', 'poochie', 'poodle', 'poodle female', 'poodle mix', 'poody', 'pooh pooh', 'pooja', 'pooki', 'poor babies', 'poor baby', 'pop died', 'popcorn', 'popette', 'popi', 'popo', 'poppie', 'poppy', 'porgi', 'pot', 'potato', 'potato peach', 'power rangers', 'powerpuff girls', 'pp', 'precious', 'precious baby', 'precious puppy', 'pregnant cat', 'pregnant female', 'premi girl', 'pretti kitty', 'pretty', 'pretty girl', 'pretty girls', 'pretty hailey', 'pretty lady', 'pretty meow', 'prettygirl', 'pretzel', 'prince', 'prince ', 'prince caspian', 'prince notty', 'princess', 'princess blue', 'princess leia', 'princess lulu', 'professor', 'pu meow', 'pudding', 'puff puff', 'puffy', 'pugsley', 'puinkey', 'puma', 'puma tiger', 'pumpkin', 'punch', 'punie', 'punk', 'punkie', 'pup', 'pup and', 'pup pup', 'pupper', 'puppies', 'puppies found', 'puppies weeks', 'puppiezzzz', 'puppiezzzzz', 'puppy', 'puppy a', 'puppy boncit', 'puppy brownie', 'puppy bruno', 'puppy female', 'puppy jingles', 'puppy male', 'puppy monster', 'puppy r', 'puppy squad', 'puppy viki', 'pups', 'pups weeks', 'puss boots', 'puteh', 'putih', 'putih belang', 'putih booked', 'putih kecik', 'putih kelabu', 'putih mickey', 'putih tiger', 'putri', 'pwinches vivi', 'py', 'q', 'qaseh', 'qd', 'qimi', 'qiqi', 'qitmir', 'qq', 'qts', 'qu', 'queen klg', 'queenie', 'queenie puppy', 'quicksilver', 'r', 'rabbit', 'racer', 'rachel', 'racoon', 'racoon tompok', 'rafa', 'ragdoll', 'raggles', 'rahul', 'rain', 'rainbow', 'rainy', 'rainy girl', 'raisin', 'raki', 'ramadhan', 'rambo', 'rambutan', 'ramli', 'ramona', 'ramone', 'ramsey', 'randy', 'ranger', 'rani', 'rani girl', 'raphael', 'rara', 'rascal', 'rascal rusty', 'raven', 'ray', 'rc', 'rcs', 'recks', 'red', 'ree ree', 'reeka', 'reena', 'reese', 'regina', 'rei', 'reika blossom', 'reka', 'rembrandt', 'remi', 'rendang', 'renee', 'renny', 'reno', 'reo', 'rescued', 'rescued puppies', 'rescued puppy', 'rex', 'rex blossom', 'rexi', 'rexyy', 'rey', 'rezo', 'rhino', 'rica', 'ricco', 'ricky', 'rico', 'riko', 'riley summer', 'rin', 'ringmo', 'ringo', 'ringo star', 'rio', 'rio rio', 'river', 'ro f', 'robert', 'robin', 'robin cat', 'robine', 'robocop', 'rocco', 'rocket', 'rocky', 'rody', 'roger', 'rokie', 'roland', 'roma', 'romeo', 'romeol', 'rona', 'ronaa', 'ronald', 'roni boy', 'ronnie', 'ronson', 'roo', 'roof kittens', 'rookie batman', 'rooney', 'roro', 'rosco', 'roscoe', 'rose', 'rose marie', 'rosemerry', 'rosie', 'rosie rose', 'rosy', 'roti girl', 'rott rott', 'rottie', 'rottie boy', 'rottie gals', 'rottweiler adoption', 'rottweiler mixed', 'rottweiler puppy', 'rownie', 'rox', 'roxanne', 'roxie', 'roxy', 'roy', 'royy', 'royyy', 'rozy', 'rt', 'ruby', 'ruby molly', 'ruci', 'rudi', 'rudy', 'ruffles', 'rufio', 'rufus', 'rum', 'rum raisin', 'rummy', 'rumy', 'runner', 'rusco baby', 'rusk', 'russ', 'russel', 'russia', 'russian black', 'rust boy', 'rusty', 'rusty girl', 'ruvv', 'ryan', 's', 's p', 'sa sa', 'sa tang', 'sabby', 'sabee', 'sad eyes', 'saffire', 'saffron', 'saffy saffron', 'safie', 'saga', 'sage', 'sailor', 'salam', 'salem', 'salem saberhagen', 'sally', 'sally cathy', 'salsa', 'sam', 'sam boy', 'samara', 'samba', 'sambaboy', 'sambu', 'samm', 'sammy', 'sampson', 'samseng', 'samson', 'samson boy', 'samsung', 'samuel', 'samuel saamikannu', 'samy', 'samz', 'san kun', 'san san', 'sana', 'sandra', 'sandra l', 'sandra w', 'sandy', 'sandy ceaser', 'sandy girl', 'sandy puppy', 'sandy spayed', 'sang abong', 'sapi', 'sapphire', 'sara', 'sarah', 'sari', 'sarsi', 'sasa', 'sasha', 'sassy', 'sausage', 'saver', 'sawks', 'sayang', 'sayuri', 'scarlet', 'scarlett', 'scarlette', 'schmoo', 'schmoopy', 'schnauzer', 'scooby', 'scooby doo', 'scoopy', 'scooter', 'scotch', 'scott', 'scott tyler', 'scotty', 'scrappy', 'scratch', 'scruffy', 'scruffy bunny', 'scuba', 'scuffy girl', 'scully', 'sean', 'seasons', 'seeta', 'segapi', 'sekawan', 'sel', 'selampit', 'selma', 'selvi', 'sena', 'sentul girl', 'sentul kittiens', 'september special', 'serato eddie', 'seremban cuties', 'serena', 'sergei', 'seri dewi', 'serra girl', 'sesame', 'sesame bean', 'seven', 'sha sha', 'shadow', 'shadowbaby', 'shadowfart', 'shadoww', 'shadowz', 'shaggie', 'shaggy', 'shakira', 'shama', 'shankly', 'shanon', 'shanti', 'shaq', 'shark', 'shasha', 'shaw', 'sheba', 'sheba babydoll', 'sheela', 'sheena', 'sheenie', 'sheera', 'sheiba', 'sheila', 'sheni', 'sheno', 'shepa', 'shepherd', 'sheppard', 'shera', 'sherhan', 'sherio', 'sherlock', 'shero', 'sheru', 'shiba', 'shibee', 'shih tzu', 'shihtzu', 'shihtzu papillon', 'shiiro', 'shilee', 'shiloh', 'shima ', 'shimmer', 'shin wa', 'shinney', 'shino', 'shiny', 'shirley', 'shiro', 'shiro maguro', 'shiro momo', 'shitzu', 'shiya', 'short toe', 'shortty', 'shorty', 'shorty girl', 'shorty sweety', 'shuka', 'shwun', 'shy', 'shy ruby', 'shyni', 'si comel', 'si garang', 'si gebu', 'si hitam', 'si kecik', 'si kuning', 'si manja', 'si oren', 'si puteh', 'si putih', 'si si', 'siam', 'siam boy', 'siamese mom', 'siblings', 'sibu puppy', 'sica', 'sid', 'sierra', 'sigg plus', 'sika', 'silka', 'silky', 'silver', 'silver tabby', 'silvy', 'sim', 'simba', 'simba nala', 'simba sugar', 'singha', 'siobhan', 'siri', 'sisi', 'sissley grissley', 'sissy', 'sister kittens', 'sisters', 'sita', 'siti', 'siti sofia', 'six pups', 'skipper t', 'skippy', 'skit', 'sky', 'skywalker', 'sleeping beauty', 'sloan', 'slumber', 'slyvester sly', 'small', 'small blacky', 'small kitty', 'small ly', 'small one', 'small paw', 'small socks', 'smallie', 'smarti', 'smarty', 'smiley', 'smiley michelle', 'smokey', 'smokey fred', 'smokey sam', 'smokey siamese', 'smoky', 'smoothie', 'smoothie blackie', 'smudge', 'snape', 'snazzy', 'sniffles', 'snoopy', 'snoopy boy', 'snooze', 'snow', 'snow baby', 'snow flake', 'snow white', 'snowball', 'snowball kipper', 'snowflake', 'snowhite', 'snowie', 'snowman', 'snowny', 'snowwhite', 'snowy', 'snowy belang', 'snowy brownie', 'snowy mummy', 'snowy urgent', 'snuggletoes', 'sock', 'socks', 'socks coffee', 'sofi', 'sofie', 'sofy', 'solo', 'sologirl', 'something', 'sonata', 'sonia', 'sookie', 'soothy salem', 'sophie', 'sophie t', 'sophieee', 'soufian', 'soup', 'sox', 'soy', 'soya', 'soya boy', 'sparkle', 'sparkles', 'sparkling', 'sparky', 'speckle', 'speed', 'speedy', 'spencer', 'spidey', 'spike', 'spitz mix', 'spongebob', 'sport', 'sporty', 'spot', 'spot angel', 'spotcy girl', 'spots', 'spots stripes', 'spotteefy', 'spotty', 'spotty girl', 'spoty', 'spring roll', 'spunky', 'squeak', 'squeeshi', 'squirrel', 'squirrelx', 'st', 'star', 'star thursday', 'stargazer', 'starley', 'stefi', 'stella', 'steve', 'stevie', 'sticky months', 'stimpy', 'stocknish', 'stokin', 'stone', 'stormy', 'stray', 'stray dogs', 'stray gremlin', 'stray kitten', 'stray kittens', 'street kids', 'stripe', 'stripes', 'stripes arrow', 'stripey', 'stripey whitenose', 'stuart', 'stupid cat', 'stylo', 'su yin', 'sudin', 'sudu', 'sugar', 'sugar pops', 'sugee', 'suki', 'sully', 'sultan', 'sumi', 'sumi girl', 'summer', 'summer girl', 'summer holiday', 'sunahine', 'sunbeam', 'sundae', 'sunday', 'sunday rose', 'sunny', 'sunrise', 'sunset', 'sunshine', 'sunshinegirl', 'sunshines', 'sunway', 'sunway puppies', 'super girl', 'superring', 'survivor', 'surya', 'sushi', 'susie', 'suza', 'suzie', 'suzy', 'suzy girl', 'sven', 'sweet', 'sweet apple', 'sweet candy', 'sweet cat', 'sweet jack', 'sweet lollipop', 'sweet potato', 'sweet sammy', 'sweet sisters', 'sweetheart', 'sweetie', 'sweetie blackie', 'sweetie pie', 'sweeties puppies', 'sweety', 'sydney', 'sylvester', 'sylvia', 't', 't bone', 't rex', 'tabatha', 'tabby', 'tabby boy', 'tabby girl', 'tabby male', 'tabby siamese', 'tabby tammy', 'tabbybengal', 'taco', 'tada', 'tae yang', 'taeya', 'tai friday', 'tai mui', 'taiga', 'taily', 'taka', 'taki', 'tala', 'tall doggy', 'tallulah mama', 'tam', 'tam comel', 'tam jr', 'tam tam', 'tamago', 'tamie', 'tammie', 'tammy', 'tamtam', 'tamteh', 'tang tang', 'tango', 'tania', 'tanjung', 'tanya', 'taquito', 'tara', 'tara maya', 'taro', 'tarzan', 'tasha', 'tasya', 'tatam', 'tavi', 'taylor ', 'taylor jade', 'tayyib cats', 'tazzy', 'tea', 'teana', 'tebukuro', 'teddi', 'teddie', 'teddy', 'teddy bear', 'teddy boy', 'teddybear', 'tedora', 'tee tee', 'teeger', 'teem teem', 'teentin', 'teh o', 'tequila', 'teresa', 'terrier poddle', 'terrin', 'terry', 'terry suzy', 'tessa', 'tesssa', 'the batkids', 'the beagle', 'the brothers', 'the catdashians', 'the disney', 'the fab', 'the kiddos', 'the kittens', 'the kitties', 'the musketeers', 'the oranges', 'the prince', 'the puppies', 'the sisters', 'the smurfs', 'the trios', 'the twins', 'thea', 'theodore', 'thomas', 'thor', 'three color', 'three kittens', 'three siblings', 'thumbelina', 'thunder', 'ti ara', 'tiara', 'tico', 'tiega ciara', 'tieson', 'tiffani', 'tiffy', 'tig ger', 'tiger', 'tiger girl', 'tiger ninja', 'tiger white', 'tigerlily', 'tigger', 'tigger dabear', 'tiki', 'tikkany', 'tim', 'tim tam', 'timmy', 'timon', 'timtam', 'timtim', 'tin tin', 'tina', 'tina marie', 'tinderbell', 'ting ting', 'tinka', 'tinker', 'tinker bell', 'tinker belle', 'tinkie', 'tino', 'tintin', 'tiny', 'tiny three', 'tippy', 'tipsy', 'tiramisu', 'tita', 'titan', 'tito', 'titto', 'tj', 'to to', 'tobby', 'toby', 'toby tubby', 'tocik', 'toffee', 'tofu', 'tokyo', 'tom', 'tom angus', 'tom jerry', 'tom sullivan', 'tom tom', 'tomagochi', 'tomi', 'tomisah', 'tommee', 'tommie', 'tommy', 'tomo', 'tompi', 'tompok', 'tomy', 'tong tong', 'toni', 'tonny', 'tony', 'tony jessica', 'tookins', 'toothless', 'tootie', 'tootsie twinkie', 'topaz', 'tora', 'toranj naranj', 'toro', 'torti black', 'tot tot', 'toto', 'toto puppies', 'totoro', 'toyat', 'tq', 'tracy', 'trained puppy', 'travel', 'tree', 'tree puppies', 'trenny', 'trexie', 'triki', 'trinky', 'trish', 'trisha', 'tristan', 'trixcy', 'trixie', 'trixie baby', 'trixie c', 'trojan', 'trophy', 'tropicana puppies', 'trouve', 'troy', 'truffle', 'truffles', 'tsukasa', 'tsuki', 'tt tsingtao', 'tto tto', 'tu ah', 'tuah', 'tucker', 'tuesday', 'tulip', 'tulus iklas', 'tumble', 'tumbles', 'tumi', 'tuna', 'tutti frutti', 'tutu', 'tuty', 'tuut', 'tux girl', 'tuxedo', 'tuxedo babe', 'tuxedo boy', 'tuxedo boys', 'tuxedo kitten', 'tuxedo kitty', 'tuxedo pretty', 'tuxie', 'tuxxy', 'twiggie', 'twilight', 'twin brothers', 'twinkle', 'twinkle bell', 'twins', 'twins rese', 'twiny', 'two face', 'two kittens', 'tyler', 'tyler lee', 'tylo', 'tyson', 'ulquiorra', 'ulu kinta', 'ummi', 'unagi', 'unaki', 'unamed yet', 'unik', 'unknown', 'unnamed', 'untitled', 'upin', 'upin ipin', 'urgent', 'urgent fila', 'urgent kingsley', 'urgent pokky', 'usyang', 'ute buta', 'uteh', 'utih', 'uyu', 'v', 'vader', 'vader leia', 'valerie', 'vanila', 'vanile', 'vanilla', 'varon', 'veee', 'veella', 'veera', 'velvet', 'venus', 'verdi', 'vero', 'vespa', 'vickay', 'vicky', 'victor', 'victoria', 'vimi', 'vincy', 'vio', 'violet', 'viva', 'vivi', 'vivo', 'vodka', 'vv', 'w', 'waffle pancake', 'wagyu', 'walker', 'wall e', 'wallace', 'wallis', 'wally', 'walnut', 'wanda', 'wang wang', 'wangki', 'waterbabe', 'wawa', 'weasley', 'wednesday', 'wei wei', 'welly', 'wen wen', 'wesley', 'westie lookalike', 'whisker', 'whiskers', 'whiskey', 'whiskie', 'whisky', 'whisper', 'white', 'white angel', 'white bikini', 'white cat', 'white chihuahua', 'white cream', 'white kitten', 'white kittens', 'white minions', 'white paws', 'white poodle', 'white siamese', 'white socks', 'white terrier', 'white white', 'whitely', 'whitesox', 'whitey', 'whitey bushy', 'whitey clans', 'whiteyy', 'whitie', 'whitney tina', 'whittie', 'whittiee', 'whitty', 'whity', 'whity panda', 'whoopi', 'wiggle', 'wiki', 'wikie', 'william', 'willy', 'win nie', 'win win', 'winci', 'windy', 'winkie', 'winks', 'winky', 'winner', 'winnie', 'winston', 'winter', 'wisdom', 'wisely', 'wizard', 'wo wo', 'wobby', 'wolf', 'wolfe', 'wolfie', 'wolfie cate', 'wonder', 'wong choi', 'wong mah', 'wong wong', 'wongwong', 'wonky', 'woody', 'woofie', 'woofy', 'wooga', 'woollybear', 'wormmy', 'wow wow', 'wrinkle boy', 'wynn', 'wynna', 'xander', 'xena', 'xiaan bai', 'xiao bai', 'xiao bao', 'xiao chou', 'xiao gou', 'xiao guai', 'xiao hei', 'xiao hua', 'xiao huang', 'xiao ke', 'xiao li', 'xiao mi', 'xiao tong', 'xiao wang', 'xiao xiao', 'xiaobai bibi', 'xiaolu', 'xiaomi', 'xiaoshan daju', 'xiaow xiaow', 'xindie', 'xiong mao', 'xiu sa', 'xixi', 'xuan xuan', 'xyla', 'y', 'yakira', 'yakult', 'yam', 'yang', 'yaya', 'yellow', 'yellow eyes', 'yellow kitten', 'yellowme', 'yeni lynn', 'yenny', 'yeo chi', 'yeochi nabi', 'yily', 'yimmy', 'yin yang', 'ying yang', 'ying ying', 'ying yong', 'yo yo', 'yoda', 'yofu', 'yoghurt', 'yogi b', 'yogi bear', 'yogi boy', 'yogurt', 'yokan moki', 'yoko', 'yoohee', 'yorky', 'yoru puri', 'yoshee', 'young kittens', 'yoyo', 'yu mi', 'yuan yuan', 'yucca', 'yuffie kittens', 'yuki', 'yum yum', 'yumi', 'yumi f', 'yumi hamasaki', 'yumichika', 'yummy oranges', 'yuri', 'yuri seraphin', 'yuri yuki', 'yuuki', 'yuyu', 'yy', 'z', 'zabelle queen', 'zack', 'zaizai', 'zamani', 'zara', 'zebra', 'zee', 'zeeny', 'zelda', 'zen lee', 'zen zen', 'zety', 'zhai zhai', 'zimbaa', 'zizi', 'zoe', 'zoey', 'zoey cody', 'zoro luna', 'zorra sunday', 'zorro', 'zorro mira', 'zoya', 'zuba', 'Breed_0', 'Breed_1', 'Breed_2', 'Breed_3', 'Breed_4', 'Breed_5', 'Breed_7', 'Breed_10', 'Breed_11', 'Breed_14', 'Breed_15', 'Breed_16', 'Breed_17', 'Breed_18', 'Breed_19', 'Breed_20', 'Breed_21', 'Breed_23', 'Breed_24', 'Breed_25', 'Breed_26', 'Breed_31', 'Breed_32', 'Breed_36', 'Breed_39', 'Breed_40', 'Breed_42', 'Breed_44', 'Breed_49', 'Breed_50', 'Breed_56', 'Breed_58', 'Breed_60', 'Breed_61', 'Breed_64', 'Breed_65', 'Breed_69', 'Breed_70', 'Breed_71', 'Breed_72', 'Breed_75', 'Breed_76', 'Breed_78', 'Breed_81', 'Breed_82', 'Breed_83', 'Breed_85', 'Breed_88', 'Breed_93', 'Breed_96', 'Breed_97', 'Breed_98', 'Breed_99', 'Breed_100', 'Breed_102', 'Breed_103', 'Breed_104', 'Breed_105', 'Breed_108', 'Breed_109', 'Breed_111', 'Breed_114', 'Breed_115', 'Breed_117', 'Breed_119', 'Breed_122', 'Breed_123', 'Breed_125', 'Breed_128', 'Breed_129', 'Breed_130', 'Breed_132', 'Breed_139', 'Breed_141', 'Breed_143', 'Breed_145', 'Breed_146', 'Breed_147', 'Breed_148', 'Breed_150', 'Breed_152', 'Breed_154', 'Breed_155', 'Breed_159', 'Breed_165', 'Breed_167', 'Breed_169', 'Breed_173', 'Breed_176', 'Breed_178', 'Breed_179', 'Breed_182', 'Breed_185', 'Breed_187', 'Breed_188', 'Breed_189', 'Breed_190', 'Breed_192', 'Breed_195', 'Breed_197', 'Breed_199', 'Breed_200', 'Breed_201', 'Breed_202', 'Breed_203', 'Breed_204', 'Breed_205', 'Breed_206', 'Breed_207', 'Breed_210', 'Breed_212', 'Breed_213', 'Breed_214', 'Breed_215', 'Breed_217', 'Breed_218', 'Breed_224', 'Breed_227', 'Breed_228', 'Breed_231', 'Breed_232', 'Breed_233', 'Breed_234', 'Breed_237', 'Breed_239', 'Breed_240', 'Breed_241', 'Breed_242', 'Breed_243', 'Breed_244', 'Breed_245', 'Breed_246', 'Breed_247', 'Breed_248', 'Breed_249', 'Breed_250', 'Breed_251', 'Breed_252', 'Breed_253', 'Breed_254', 'Breed_256', 'Breed_257', 'Breed_260', 'Breed_262', 'Breed_263', 'Breed_264', 'Breed_265', 'Breed_266', 'Breed_267', 'Breed_268', 'Breed_269', 'Breed_270', 'Breed_271', 'Breed_272', 'Breed_273', 'Breed_274', 'Breed_276', 'Breed_277', 'Breed_278', 'Breed_279', 'Breed_280', 'Breed_281', 'Breed_282', 'Breed_283', 'Breed_284', 'Breed_285', 'Breed_286', 'Breed_287', 'Breed_288', 'Breed_289', 'Breed_290', 'Breed_291', 'Breed_292', 'Breed_293', 'Breed_294', 'Breed_295', 'Breed_296', 'Breed_297', 'Breed_298', 'Breed_299', 'Breed_300', 'Breed_301', 'Breed_302', 'Breed_303', 'Breed_304', 'Breed_305', 'Breed_306', 'Breed_307', 'Gender_1', 'Gender_2', 'Gender_3', 'Color_0', 'Color_1', 'Color_2', 'Color_3', 'Color_4', 'Color_5', 'Color_6', 'Color_7', 'MaturitySize_1', 'MaturitySize_2', 'MaturitySize_3', 'MaturitySize_4', 'FurLength_1', 'FurLength_2', 'FurLength_3', 'Vaccinated_1', 'Vaccinated_2', 'Vaccinated_3', 'Dewormed_1', 'Dewormed_2', 'Dewormed_3', 'Sterilized_1', 'Sterilized_2', 'Sterilized_3', 'Health_1', 'Health_2', 'Health_3', 'State_41324', 'State_41325', 'State_41326', 'State_41327', 'State_41330', 'State_41332', 'State_41335', 'State_41336', 'State_41342', 'State_41345', 'State_41361', 'State_41367', 'State_41401', 'State_41415', 'fee_per_pet']\n"
     ]
    }
   ],
   "source": [
    "y_columns = [\"AdoptionSpeed\"]\n",
    "X_column_exclude = [\"PetID\"]\n",
    "X_columns = [ x for x in df_train.columns if (x not in X_column_exclude) & (x not in y_columns)]\n",
    "print(X_columns)"
   ]
  },
  {
   "cell_type": "markdown",
   "metadata": {},
   "source": [
    "## Run Model"
   ]
  },
  {
   "cell_type": "code",
   "execution_count": 8,
   "metadata": {
    "scrolled": false
   },
   "outputs": [
    {
     "name": "stdout",
     "output_type": "stream",
     "text": [
      "X_train (8000, 4492)\n",
      "y_train (8000, 1)\n",
      "X_test (2000, 4492)\n",
      "y_test (2000, 1)\n"
     ]
    },
    {
     "ename": "AttributeError",
     "evalue": "'DataFrame' object has no attribute 'ravel'",
     "output_type": "error",
     "traceback": [
      "\u001b[1;31m---------------------------------------------------------------------------\u001b[0m",
      "\u001b[1;31mAttributeError\u001b[0m                            Traceback (most recent call last)",
      "\u001b[1;32m<ipython-input-8-d58fc523cc1a>\u001b[0m in \u001b[0;36m<module>\u001b[1;34m\u001b[0m\n\u001b[1;32m----> 1\u001b[1;33m \u001b[0mresults\u001b[0m \u001b[1;33m=\u001b[0m \u001b[0mexecutetion\u001b[0m\u001b[1;33m(\u001b[0m\u001b[0mdf_train\u001b[0m\u001b[1;33m,\u001b[0m \u001b[0mX_columns\u001b[0m\u001b[1;33m,\u001b[0m \u001b[0my_columns\u001b[0m\u001b[1;33m)\u001b[0m\u001b[1;33m\u001b[0m\u001b[1;33m\u001b[0m\u001b[0m\n\u001b[0m",
      "\u001b[1;32m<ipython-input-6-2b8b75939a8f>\u001b[0m in \u001b[0;36mexecutetion\u001b[1;34m(df_data, list_X_column, list_y_column)\u001b[0m\n\u001b[0;32m     14\u001b[0m     \u001b[0mresults\u001b[0m \u001b[1;33m=\u001b[0m \u001b[1;33m[\u001b[0m\u001b[1;33m]\u001b[0m\u001b[1;33m\u001b[0m\u001b[1;33m\u001b[0m\u001b[0m\n\u001b[0;32m     15\u001b[0m     \u001b[1;32mfor\u001b[0m \u001b[0mm\u001b[0m \u001b[1;32min\u001b[0m \u001b[0mmodels\u001b[0m\u001b[1;33m:\u001b[0m\u001b[1;33m\u001b[0m\u001b[1;33m\u001b[0m\u001b[0m\n\u001b[1;32m---> 16\u001b[1;33m         \u001b[0mprecision\u001b[0m\u001b[1;33m,\u001b[0m \u001b[0mrecall\u001b[0m \u001b[1;33m=\u001b[0m \u001b[0mrun_experiment\u001b[0m\u001b[1;33m(\u001b[0m\u001b[0mm\u001b[0m\u001b[1;33m[\u001b[0m\u001b[1;36m0\u001b[0m\u001b[1;33m]\u001b[0m\u001b[1;33m,\u001b[0m \u001b[0mm\u001b[0m\u001b[1;33m[\u001b[0m\u001b[1;36m1\u001b[0m\u001b[1;33m]\u001b[0m\u001b[1;33m,\u001b[0m \u001b[0mX_train\u001b[0m\u001b[1;33m,\u001b[0m \u001b[0my_train\u001b[0m\u001b[1;33m,\u001b[0m \u001b[0mX_test\u001b[0m\u001b[1;33m,\u001b[0m \u001b[0my_test\u001b[0m\u001b[1;33m)\u001b[0m\u001b[1;33m\u001b[0m\u001b[1;33m\u001b[0m\u001b[0m\n\u001b[0m\u001b[0;32m     17\u001b[0m         \u001b[0mresults\u001b[0m\u001b[1;33m.\u001b[0m\u001b[0mappend\u001b[0m\u001b[1;33m(\u001b[0m\u001b[1;33m[\u001b[0m\u001b[0mm\u001b[0m\u001b[1;33m[\u001b[0m\u001b[1;36m0\u001b[0m\u001b[1;33m]\u001b[0m\u001b[1;33m,\u001b[0m \u001b[0mprecision\u001b[0m\u001b[1;33m,\u001b[0m \u001b[0mrecall\u001b[0m\u001b[1;33m]\u001b[0m\u001b[1;33m)\u001b[0m\u001b[1;33m\u001b[0m\u001b[1;33m\u001b[0m\u001b[0m\n\u001b[0;32m     18\u001b[0m \u001b[1;33m\u001b[0m\u001b[0m\n",
      "\u001b[1;32m<ipython-input-4-062cbc05ffbe>\u001b[0m in \u001b[0;36mrun_experiment\u001b[1;34m(title, model, X_train, y_train, X_test, y_test)\u001b[0m\n\u001b[0;32m     31\u001b[0m \u001b[1;33m\u001b[0m\u001b[0m\n\u001b[0;32m     32\u001b[0m \u001b[1;32mdef\u001b[0m \u001b[0mrun_experiment\u001b[0m\u001b[1;33m(\u001b[0m\u001b[0mtitle\u001b[0m\u001b[1;33m,\u001b[0m \u001b[0mmodel\u001b[0m\u001b[1;33m,\u001b[0m \u001b[0mX_train\u001b[0m\u001b[1;33m,\u001b[0m \u001b[0my_train\u001b[0m\u001b[1;33m,\u001b[0m \u001b[0mX_test\u001b[0m\u001b[1;33m,\u001b[0m \u001b[0my_test\u001b[0m\u001b[1;33m)\u001b[0m\u001b[1;33m:\u001b[0m\u001b[1;33m\u001b[0m\u001b[1;33m\u001b[0m\u001b[0m\n\u001b[1;32m---> 33\u001b[1;33m     \u001b[0my_pred\u001b[0m \u001b[1;33m=\u001b[0m \u001b[0mmodel_training\u001b[0m\u001b[1;33m(\u001b[0m\u001b[0mmodel\u001b[0m\u001b[1;33m,\u001b[0m \u001b[0mX_train\u001b[0m\u001b[1;33m,\u001b[0m \u001b[0my_train\u001b[0m\u001b[1;33m,\u001b[0m \u001b[0mX_test\u001b[0m\u001b[1;33m)\u001b[0m\u001b[1;33m\u001b[0m\u001b[1;33m\u001b[0m\u001b[0m\n\u001b[0m\u001b[0;32m     34\u001b[0m     \u001b[0mprecision\u001b[0m\u001b[1;33m,\u001b[0m \u001b[0mrecall\u001b[0m \u001b[1;33m=\u001b[0m \u001b[0mmodel_evaluation\u001b[0m\u001b[1;33m(\u001b[0m\u001b[0mtitle\u001b[0m\u001b[1;33m,\u001b[0m \u001b[0mmodel\u001b[0m\u001b[1;33m,\u001b[0m \u001b[0my_test\u001b[0m\u001b[1;33m,\u001b[0m \u001b[0my_pred\u001b[0m\u001b[1;33m)\u001b[0m\u001b[1;33m\u001b[0m\u001b[1;33m\u001b[0m\u001b[0m\n\u001b[0;32m     35\u001b[0m     \u001b[1;32mreturn\u001b[0m\u001b[1;33m(\u001b[0m\u001b[0mprecision\u001b[0m\u001b[1;33m,\u001b[0m \u001b[0mrecall\u001b[0m\u001b[1;33m)\u001b[0m\u001b[1;33m\u001b[0m\u001b[1;33m\u001b[0m\u001b[0m\n",
      "\u001b[1;32m<ipython-input-4-062cbc05ffbe>\u001b[0m in \u001b[0;36mmodel_training\u001b[1;34m(model, X_train, y_train, X_test)\u001b[0m\n\u001b[0;32m      1\u001b[0m \u001b[1;32mdef\u001b[0m \u001b[0mmodel_training\u001b[0m\u001b[1;33m(\u001b[0m\u001b[0mmodel\u001b[0m\u001b[1;33m,\u001b[0m \u001b[0mX_train\u001b[0m\u001b[1;33m,\u001b[0m \u001b[0my_train\u001b[0m\u001b[1;33m,\u001b[0m \u001b[0mX_test\u001b[0m\u001b[1;33m)\u001b[0m\u001b[1;33m:\u001b[0m\u001b[1;33m\u001b[0m\u001b[1;33m\u001b[0m\u001b[0m\n\u001b[1;32m----> 2\u001b[1;33m     \u001b[0mmodel\u001b[0m\u001b[1;33m.\u001b[0m\u001b[0mfit\u001b[0m\u001b[1;33m(\u001b[0m\u001b[0mX_train\u001b[0m\u001b[1;33m,\u001b[0m \u001b[0my_train\u001b[0m\u001b[1;33m.\u001b[0m\u001b[0mravel\u001b[0m\u001b[1;33m(\u001b[0m\u001b[1;33m)\u001b[0m\u001b[1;33m)\u001b[0m\u001b[1;33m\u001b[0m\u001b[1;33m\u001b[0m\u001b[0m\n\u001b[0m\u001b[0;32m      3\u001b[0m     \u001b[0my_pred\u001b[0m \u001b[1;33m=\u001b[0m \u001b[0mmodel\u001b[0m\u001b[1;33m.\u001b[0m\u001b[0mpredict\u001b[0m\u001b[1;33m(\u001b[0m\u001b[0mX_test\u001b[0m\u001b[1;33m)\u001b[0m\u001b[1;33m\u001b[0m\u001b[1;33m\u001b[0m\u001b[0m\n\u001b[0;32m      4\u001b[0m     \u001b[1;32mreturn\u001b[0m\u001b[1;33m(\u001b[0m\u001b[0my_pred\u001b[0m\u001b[1;33m)\u001b[0m\u001b[1;33m\u001b[0m\u001b[1;33m\u001b[0m\u001b[0m\n\u001b[0;32m      5\u001b[0m \u001b[1;33m\u001b[0m\u001b[0m\n",
      "\u001b[1;32mc:\\users\\wilson lee\\appdata\\local\\programs\\python\\python37\\lib\\site-packages\\pandas\\core\\generic.py\u001b[0m in \u001b[0;36m__getattr__\u001b[1;34m(self, name)\u001b[0m\n\u001b[0;32m   5065\u001b[0m             \u001b[1;32mif\u001b[0m \u001b[0mself\u001b[0m\u001b[1;33m.\u001b[0m\u001b[0m_info_axis\u001b[0m\u001b[1;33m.\u001b[0m\u001b[0m_can_hold_identifiers_and_holds_name\u001b[0m\u001b[1;33m(\u001b[0m\u001b[0mname\u001b[0m\u001b[1;33m)\u001b[0m\u001b[1;33m:\u001b[0m\u001b[1;33m\u001b[0m\u001b[1;33m\u001b[0m\u001b[0m\n\u001b[0;32m   5066\u001b[0m                 \u001b[1;32mreturn\u001b[0m \u001b[0mself\u001b[0m\u001b[1;33m[\u001b[0m\u001b[0mname\u001b[0m\u001b[1;33m]\u001b[0m\u001b[1;33m\u001b[0m\u001b[1;33m\u001b[0m\u001b[0m\n\u001b[1;32m-> 5067\u001b[1;33m             \u001b[1;32mreturn\u001b[0m \u001b[0mobject\u001b[0m\u001b[1;33m.\u001b[0m\u001b[0m__getattribute__\u001b[0m\u001b[1;33m(\u001b[0m\u001b[0mself\u001b[0m\u001b[1;33m,\u001b[0m \u001b[0mname\u001b[0m\u001b[1;33m)\u001b[0m\u001b[1;33m\u001b[0m\u001b[1;33m\u001b[0m\u001b[0m\n\u001b[0m\u001b[0;32m   5068\u001b[0m \u001b[1;33m\u001b[0m\u001b[0m\n\u001b[0;32m   5069\u001b[0m     \u001b[1;32mdef\u001b[0m \u001b[0m__setattr__\u001b[0m\u001b[1;33m(\u001b[0m\u001b[0mself\u001b[0m\u001b[1;33m,\u001b[0m \u001b[0mname\u001b[0m\u001b[1;33m,\u001b[0m \u001b[0mvalue\u001b[0m\u001b[1;33m)\u001b[0m\u001b[1;33m:\u001b[0m\u001b[1;33m\u001b[0m\u001b[1;33m\u001b[0m\u001b[0m\n",
      "\u001b[1;31mAttributeError\u001b[0m: 'DataFrame' object has no attribute 'ravel'"
     ]
    }
   ],
   "source": [
    "results = executetion(df_train, X_columns, y_columns)"
   ]
  },
  {
   "cell_type": "markdown",
   "metadata": {},
   "source": [
    "## Model performance"
   ]
  },
  {
   "cell_type": "code",
   "execution_count": null,
   "metadata": {},
   "outputs": [],
   "source": [
    "# sort the results and print as a table\n",
    "sort_column = \"precision\"\n",
    "\n",
    "df_results = pd.DataFrame(results)\n",
    "df_results.columns = ['model', 'precision', 'recall']\n",
    "df_results = df_results.sort_values(by=sort_column)\n",
    "df_results"
   ]
  },
  {
   "cell_type": "markdown",
   "metadata": {},
   "source": [
    "## Fit Test Data"
   ]
  },
  {
   "cell_type": "code",
   "execution_count": null,
   "metadata": {},
   "outputs": [],
   "source": [
    "print(\"Using Model {0}\".format(models[df_results[sort_column].idxmax()][0]))\n",
    "X_test = df_test[X_columns]\n",
    "y_pred = models[2][1].predict(X_test)"
   ]
  },
  {
   "cell_type": "markdown",
   "metadata": {},
   "source": [
    "## Prepare Data for Submission"
   ]
  },
  {
   "cell_type": "code",
   "execution_count": null,
   "metadata": {
    "scrolled": true
   },
   "outputs": [],
   "source": [
    "df_test['AdoptionSpeed'] = y_pred\n",
    "df_save = df_test[['PetID', 'AdoptionSpeed']]\n",
    "df_save"
   ]
  },
  {
   "cell_type": "markdown",
   "metadata": {},
   "source": [
    "## Save Data"
   ]
  },
  {
   "cell_type": "code",
   "execution_count": null,
   "metadata": {},
   "outputs": [],
   "source": [
    "df_save.to_csv(\"../../Data/Modeling/submission_01.csv\", index=False)"
   ]
  },
  {
   "cell_type": "code",
   "execution_count": null,
   "metadata": {},
   "outputs": [],
   "source": []
  }
 ],
 "metadata": {
  "kernelspec": {
   "display_name": "Python 3",
   "language": "python",
   "name": "python3"
  },
  "language_info": {
   "codemirror_mode": {
    "name": "ipython",
    "version": 3
   },
   "file_extension": ".py",
   "mimetype": "text/x-python",
   "name": "python",
   "nbconvert_exporter": "python",
   "pygments_lexer": "ipython3",
   "version": "3.7.1"
  }
 },
 "nbformat": 4,
 "nbformat_minor": 2
}
